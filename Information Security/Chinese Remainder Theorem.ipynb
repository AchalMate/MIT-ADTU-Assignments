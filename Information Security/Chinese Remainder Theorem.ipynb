{
 "cells": [
  {
   "cell_type": "code",
   "execution_count": 1,
   "id": "689b5365",
   "metadata": {},
   "outputs": [
    {
     "name": "stdout",
     "output_type": "stream",
     "text": [
      "x is 11\n"
     ]
    }
   ],
   "source": [
    "def findMinX(num, rem, k):\n",
    "    x = 1; # Initialize result\n",
    " \n",
    "    # As per the Chinise remainder\n",
    "    # theorem, this loop will\n",
    "    # always break.\n",
    "    while(True):\n",
    "         \n",
    "        # Check if remainder of\n",
    "        # x % num[j] is rem[j]\n",
    "        # or not (for all j from\n",
    "        # 0 to k-1)\n",
    "        j = 0;\n",
    "        while(j < k):\n",
    "            if (x % num[j] != rem[j]):\n",
    "                break;\n",
    "            j += 1;\n",
    " \n",
    "        # If all remainders\n",
    "        # matched, we found x\n",
    "        if (j == k):\n",
    "            return x;\n",
    " \n",
    "        # Else try next number\n",
    "        x += 1;\n",
    " \n",
    "# Driver Code\n",
    "num = [3, 4, 5];\n",
    "rem = [2, 3, 1];\n",
    "k = len(num);\n",
    "print(\"x is\", findMinX(num, rem, k));"
   ]
  },
  {
   "cell_type": "code",
   "execution_count": null,
   "id": "00952cce",
   "metadata": {},
   "outputs": [],
   "source": []
  }
 ],
 "metadata": {
  "kernelspec": {
   "display_name": "Python 3 (ipykernel)",
   "language": "python",
   "name": "python3"
  },
  "language_info": {
   "codemirror_mode": {
    "name": "ipython",
    "version": 3
   },
   "file_extension": ".py",
   "mimetype": "text/x-python",
   "name": "python",
   "nbconvert_exporter": "python",
   "pygments_lexer": "ipython3",
   "version": "3.9.12"
  }
 },
 "nbformat": 4,
 "nbformat_minor": 5
}

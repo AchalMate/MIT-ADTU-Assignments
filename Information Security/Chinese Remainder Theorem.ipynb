{
 "cells": [
  {
   "cell_type": "code",
   "execution_count": null,
   "id": "689b5365",
   "metadata": {},
   "outputs": [],
   "source": [
    "def findMinX(num, rem, k):\n",
    "    x = 1; # Initialize result\n",
    " \n",
    "    # As per the Chinise remainder\n",
    "    # theorem, this loop will\n",
    "    # always break.\n",
    "    while(True):\n",
    "         \n",
    "        # Check if remainder of\n",
    "        # x % num[j] is rem[j]\n",
    "        # or not (for all j from\n",
    "        # 0 to k-1)\n",
    "        j = 0;\n",
    "        while(j < k):\n",
    "            if (x % num[j] != rem[j]):\n",
    "                break;\n",
    "            j += 1;\n",
    " \n",
    "        # If all remainders\n",
    "        # matched, we found x\n",
    "        if (j == k):\n",
    "            return x;\n",
    " \n",
    "        # Else try next number\n",
    "        x += 1;\n",
    " \n",
    "# Driver Code\n",
    "num = [1,1,3];\n",
    "rem = [5,7, 11];\n",
    "k = len(num);\n",
    "print(\"x is\", findMinX(num, rem, k));"
   ]
  },
  {
   "cell_type": "code",
   "execution_count": 6,
   "id": "00952cce",
   "metadata": {},
   "outputs": [
    {
     "name": "stdout",
     "output_type": "stream",
     "text": [
      "true\n",
      "385 77 55 35 3 6 6\n",
      "1191\n",
      "36\n"
     ]
    }
   ],
   "source": [
    "a = [1,1,3];\n",
    "m = [5, 7, 11];\n",
    "\n",
    "def gcd(m1,m2):\n",
    "    if( m2 ==0):\n",
    "        return abs(m1)\n",
    "    else:\n",
    "        return gcd(m2, m1%m2)\n",
    "    \n",
    "\n",
    "def modInverse(A, M):\n",
    " \n",
    "    for X in range(1, M):\n",
    "        if (((A % M) * (X % M)) % M == 1):\n",
    "            return X\n",
    "    return -1\n",
    " \n",
    "    \n",
    "if(gcd(m[0],m[1]) == 1 and gcd(m[1],m[2]) == 1 and gcd(m[0],m[2])==1):\n",
    "    print(\"true\")\n",
    "    M = m[0] * m[1] * m[2]\n",
    "    \n",
    "    \n",
    "    M1 = m[1] * m[2]\n",
    "    M2 = m[0] * m[2]\n",
    "    M3 = m[0] * m[1]\n",
    "    \n",
    "    \n",
    "    \n",
    "    x1 = modInverse(M1, m[0])\n",
    "    x2 = modInverse(M2, m[1])\n",
    "    x3 = modInverse(M3, m[2])\n",
    "    \n",
    "    \n",
    "    print(M, M1, M2, M3, x1, x2, x3)\n",
    "    \n",
    "    X = ((M1*x1*a[0]) + (M2*x2*a[1]) + (M3*x3*a[2]))\n",
    "    print(X)\n",
    "    print(X % M)"
   ]
  },
  {
   "cell_type": "code",
   "execution_count": 23,
   "id": "c58cb07b",
   "metadata": {},
   "outputs": [
    {
     "data": {
      "text/plain": [
       "5"
      ]
     },
     "execution_count": 23,
     "metadata": {},
     "output_type": "execute_result"
    }
   ],
   "source": [
    "a = [1,1,3]; # reminder\n",
    "m = [5, 7, 11]; # numbers\n",
    "\n",
    "def gcd(a,b):\n",
    "    if a == 0:\n",
    "        return b\n",
    "    return gcd(b%a,a)\n"
   ]
  },
  {
   "cell_type": "code",
   "execution_count": 24,
   "id": "4610be8a",
   "metadata": {},
   "outputs": [
    {
     "name": "stdout",
     "output_type": "stream",
     "text": [
      "0 1\n",
      "1 2\n",
      "True\n"
     ]
    }
   ],
   "source": [
    "for i in range(0,4):\n",
    "    if (i+1) < len(m) and (gcd(m[i],m[i+1])) == 1:\n",
    "        print(i,i+1)\n",
    "        \n",
    "print(\"True\")"
   ]
  },
  {
   "cell_type": "code",
   "execution_count": 16,
   "id": "96cccf9a",
   "metadata": {},
   "outputs": [
    {
     "name": "stdout",
     "output_type": "stream",
     "text": [
      "385\n"
     ]
    }
   ],
   "source": [
    "M = 1\n",
    "for i in range(len(m)):\n",
    "    M *= m[i]\n",
    "print(M)\n"
   ]
  },
  {
   "cell_type": "code",
   "execution_count": 18,
   "id": "5b2dc62b",
   "metadata": {},
   "outputs": [],
   "source": [
    "M_lst = list()\n",
    "M1 = m[1] * m[2] # M/m[0] = m[0]*m[1]*m[2]/m[0] = m[1]*m[2]\n",
    "M2 = m[0] * m[2]\n",
    "M3 = m[0] * m[1]\n",
    "M_lst = [M1,M2,M3]"
   ]
  },
  {
   "cell_type": "code",
   "execution_count": 19,
   "id": "3ebac930",
   "metadata": {},
   "outputs": [],
   "source": [
    "def modInverse(A, M):\n",
    " \n",
    "    for X in range(1, M):\n",
    "        if (((A % M) * (X % M)) % M == 1):\n",
    "            return X\n",
    "    return -1\n"
   ]
  },
  {
   "cell_type": "code",
   "execution_count": 20,
   "id": "3c80ffc3",
   "metadata": {},
   "outputs": [],
   "source": [
    "x1 = modInverse(M1, m[0])\n",
    "x2 = modInverse(M2, m[1])\n",
    "x3 = modInverse(M3, m[2])"
   ]
  },
  {
   "cell_type": "code",
   "execution_count": 22,
   "id": "cd5831a2",
   "metadata": {},
   "outputs": [
    {
     "name": "stdout",
     "output_type": "stream",
     "text": [
      "1191\n",
      "36\n"
     ]
    }
   ],
   "source": [
    "X = ((M1*x1*a[0]) + (M2*x2*a[1]) + (M3*x3*a[2]))\n",
    "print(X)\n",
    "print(X % M)"
   ]
  },
  {
   "cell_type": "code",
   "execution_count": null,
   "id": "36ed71e8",
   "metadata": {},
   "outputs": [],
   "source": []
  }
 ],
 "metadata": {
  "kernelspec": {
   "display_name": "Python 3 (ipykernel)",
   "language": "python",
   "name": "python3"
  },
  "language_info": {
   "codemirror_mode": {
    "name": "ipython",
    "version": 3
   },
   "file_extension": ".py",
   "mimetype": "text/x-python",
   "name": "python",
   "nbconvert_exporter": "python",
   "pygments_lexer": "ipython3",
   "version": "3.9.12"
  }
 },
 "nbformat": 4,
 "nbformat_minor": 5
}

{
 "cells": [
  {
   "cell_type": "markdown",
   "id": "0b9f8f22",
   "metadata": {},
   "source": [
    "### Euclidean algorithm"
   ]
  },
  {
   "cell_type": "code",
   "execution_count": 1,
   "id": "d28ae20b",
   "metadata": {},
   "outputs": [
    {
     "name": "stdout",
     "output_type": "stream",
     "text": [
      "gcd( 10 , 15 ) =  5\n",
      "gcd( 35 , 10 ) =  5\n",
      "gcd( 31 , 2 ) =  1\n"
     ]
    }
   ],
   "source": [
    "# Function to return gcd of a and b\n",
    "def gcd(a, b):\n",
    "    if a == 0:\n",
    "        return b\n",
    " \n",
    "    return gcd(b % a, a)\n",
    " \n",
    "# Driver code\n",
    "if __name__ == \"__main__\":\n",
    "  a = 10\n",
    "  b = 15\n",
    "  print(\"gcd(\", a, \",\", b, \") = \", gcd(a, b))\n",
    " \n",
    "  a = 35\n",
    "  b = 10\n",
    "  print(\"gcd(\", a, \",\", b, \") = \", gcd(a, b))\n",
    " \n",
    "  a = 31\n",
    "  b = 2\n",
    "  print(\"gcd(\", a, \",\", b, \") = \", gcd(a, b))\n"
   ]
  },
  {
   "cell_type": "markdown",
   "id": "0559673f",
   "metadata": {},
   "source": [
    "### Extended Euclidean Algorithm: "
   ]
  },
  {
   "cell_type": "code",
   "execution_count": 2,
   "id": "cac7d272",
   "metadata": {},
   "outputs": [
    {
     "name": "stdout",
     "output_type": "stream",
     "text": [
      "gcd( 35 , 15 ) =  5\n"
     ]
    }
   ],
   "source": [
    "def gcdExtended(a, b):\n",
    " \n",
    "    # Base Case\n",
    "    if a == 0:\n",
    "        return b, 0, 1\n",
    " \n",
    "    gcd, x1, y1 = gcdExtended(b % a, a)\n",
    " \n",
    "    # Update x and y using results of recursive\n",
    "    # call\n",
    "    x = y1 - (b//a) * x1\n",
    "    y = x1\n",
    " \n",
    "    return gcd, x, y\n",
    " \n",
    " \n",
    "# Driver code\n",
    "a, b = 35, 15\n",
    "g, x, y = gcdExtended(a, b)\n",
    "print(\"gcd(\", a, \",\", b, \") = \", g)"
   ]
  },
  {
   "cell_type": "code",
   "execution_count": null,
   "id": "0f595ced",
   "metadata": {},
   "outputs": [],
   "source": []
  }
 ],
 "metadata": {
  "kernelspec": {
   "display_name": "Python 3 (ipykernel)",
   "language": "python",
   "name": "python3"
  },
  "language_info": {
   "codemirror_mode": {
    "name": "ipython",
    "version": 3
   },
   "file_extension": ".py",
   "mimetype": "text/x-python",
   "name": "python",
   "nbconvert_exporter": "python",
   "pygments_lexer": "ipython3",
   "version": "3.9.12"
  }
 },
 "nbformat": 4,
 "nbformat_minor": 5
}

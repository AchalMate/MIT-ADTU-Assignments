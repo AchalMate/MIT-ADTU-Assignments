{
 "cells": [
  {
   "cell_type": "markdown",
   "id": "0b9f8f22",
   "metadata": {},
   "source": [
    "### Euclidean algorithm"
   ]
  },
  {
   "cell_type": "markdown",
   "id": "f8103f89",
   "metadata": {},
   "source": [
    "Uses:\n",
    "a. Used to find gcd between two non-negative integers.\n",
    "b. Find gcd(a,b) as linear combination of a and b i.e.\n",
    "gcd(a,b)=sa+tb where ,\n",
    "a and b are non-negative integers\n",
    "s and t are any\n",
    "\n",
    "Note: gcd(a,b)=sa+tb is also known as bezout’s identity . s and t are bezout’s coefficients."
   ]
  },
  {
   "cell_type": "code",
   "execution_count": 1,
   "id": "d28ae20b",
   "metadata": {},
   "outputs": [
    {
     "name": "stdout",
     "output_type": "stream",
     "text": [
      "gcd( 10 , 15 ) =  5\n",
      "gcd( 35 , 10 ) =  5\n",
      "gcd( 31 , 2 ) =  1\n"
     ]
    }
   ],
   "source": [
    "# Function to return gcd of a and b\n",
    "def gcd(a, b):\n",
    "    if a == 0:\n",
    "        return b\n",
    " \n",
    "    return gcd(b % a, a)\n",
    " \n",
    "# Driver code\n",
    "if __name__ == \"__main__\":\n",
    "  a = 10\n",
    "  b = 15\n",
    "  print(\"gcd(\", a, \",\", b, \") = \", gcd(a, b))\n",
    " \n",
    "  a = 35\n",
    "  b = 10\n",
    "  print(\"gcd(\", a, \",\", b, \") = \", gcd(a, b))\n",
    " \n",
    "  a = 31\n",
    "  b = 2\n",
    "  print(\"gcd(\", a, \",\", b, \") = \", gcd(a, b))\n"
   ]
  },
  {
   "cell_type": "markdown",
   "id": "0559673f",
   "metadata": {},
   "source": [
    "### Extended Euclidean Algorithm: "
   ]
  },
  {
   "cell_type": "code",
   "execution_count": 5,
   "id": "cac7d272",
   "metadata": {},
   "outputs": [
    {
     "name": "stdout",
     "output_type": "stream",
     "text": [
      "gcd( 35 , 15 ) =  5\n",
      "1 -2\n"
     ]
    }
   ],
   "source": [
    "def gcdExtended(a, b):\n",
    " \n",
    "    # Base Case\n",
    "    if a == 0:\n",
    "        return b, 0, 1\n",
    " \n",
    "    gcd, x1, y1 = gcdExtended(b % a, a)\n",
    " \n",
    "    # Update x and y using results of recursive\n",
    "    # call\n",
    "    x = y1 - (b//a) * x1\n",
    "    y = x1\n",
    " \n",
    "    return gcd, x, y\n",
    " \n",
    " \n",
    "# Driver code\n",
    "a, b = 35, 15\n",
    "g, x, y = gcdExtended(a, b)\n",
    "print(\"gcd(\", a, \",\", b, \") = \", g)\n",
    "print(x,y)"
   ]
  },
  {
   "cell_type": "code",
   "execution_count": 1,
   "id": "84c933cf",
   "metadata": {},
   "outputs": [],
   "source": [
    "def gcd(a, b):\n",
    "    while b:\n",
    "        a, b = b, a % b\n",
    "    return a"
   ]
  },
  {
   "cell_type": "code",
   "execution_count": 2,
   "id": "cd3604af",
   "metadata": {},
   "outputs": [
    {
     "data": {
      "text/plain": [
       "5"
      ]
     },
     "execution_count": 2,
     "metadata": {},
     "output_type": "execute_result"
    }
   ],
   "source": [
    "gcd(10,15)"
   ]
  },
  {
   "cell_type": "code",
   "execution_count": 4,
   "id": "0f595ced",
   "metadata": {},
   "outputs": [
    {
     "name": "stdout",
     "output_type": "stream",
     "text": [
      "(5, 1.0, -2.3333333333333335)\n"
     ]
    }
   ],
   "source": [
    "def xgcd(a,b):\n",
    "    prevx, x = 1, 0\n",
    "    prevy, y = 0, 1\n",
    "    while b:\n",
    "        q = a/b # x = y1 - (a/b) *x1\n",
    "        x, prevx = prevx - q*x, x\n",
    "        y, prevy = prevy - q*y, y\n",
    "        a, b = b, a % b\n",
    "    return a, prevx, prevy\n",
    "\n",
    "print(xgcd(35,15))\n",
    "\n",
    "# ax + by = gcd(a, b)\n",
    "# gcd(a, b) = gcd(b%a, a)\n",
    "# gcd(b%a, a) = (b%a)x1 + ay1\n",
    "# ax + by = (b%a)x1 + ay1\n",
    "# ax + by = (b – [b/a] * a)x1 + ay1\n",
    "# ax + by = a(y1 – [b/a] * x1) + bx1\n",
    "\n",
    "# Comparing LHS and RHS,\n",
    "# x = y1 – ⌊b/a⌋ * x1\n",
    "#  y = x1"
   ]
  },
  {
   "cell_type": "code",
   "execution_count": null,
   "id": "575ed7b9",
   "metadata": {},
   "outputs": [],
   "source": []
  }
 ],
 "metadata": {
  "kernelspec": {
   "display_name": "Python 3 (ipykernel)",
   "language": "python",
   "name": "python3"
  },
  "language_info": {
   "codemirror_mode": {
    "name": "ipython",
    "version": 3
   },
   "file_extension": ".py",
   "mimetype": "text/x-python",
   "name": "python",
   "nbconvert_exporter": "python",
   "pygments_lexer": "ipython3",
   "version": "3.9.12"
  }
 },
 "nbformat": 4,
 "nbformat_minor": 5
}

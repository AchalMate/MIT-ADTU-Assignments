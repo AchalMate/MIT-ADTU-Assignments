{
 "cells": [
  {
   "cell_type": "code",
   "execution_count": 1,
   "id": "2d860f55",
   "metadata": {},
   "outputs": [
    {
     "name": "stdout",
     "output_type": "stream",
     "text": [
      "Message data =  12.0\n",
      "Encrypted data =  3.0\n",
      "Original Message Sent =  12.0\n"
     ]
    }
   ],
   "source": [
    "import math\n",
    "  \n",
    "  \n",
    "def gcd(a, h):\n",
    "    temp = 0\n",
    "    while(1):\n",
    "        temp = a % h\n",
    "        if (temp == 0):\n",
    "            return h\n",
    "        a = h\n",
    "        h = temp\n",
    "  \n",
    "  \n",
    "p = 3\n",
    "q = 7\n",
    "n = p*q\n",
    "e = 2\n",
    "phi = (p-1)*(q-1)\n",
    "  \n",
    "while (e < phi):\n",
    "  \n",
    "    # e must be co-prime to phi and\n",
    "    # smaller than phi.\n",
    "    if(gcd(e, phi) == 1):\n",
    "        break\n",
    "    else:\n",
    "        e = e+1\n",
    "  \n",
    "# Private key (d stands for decrypt)\n",
    "# choosing d such that it satisfies\n",
    "# d*e = 1 + k * totient\n",
    "  \n",
    "k = 2\n",
    "d = (1 + (k*phi))/e\n",
    "  \n",
    "# Message to be encrypted\n",
    "msg = 12.0\n",
    "  \n",
    "print(\"Message data = \", msg)\n",
    "  \n",
    "# Encryption c = (msg ^ e) % n\n",
    "c = pow(msg, e)\n",
    "c = math.fmod(c, n)\n",
    "print(\"Encrypted data = \", c)\n",
    "  \n",
    "# Decryption m = (c ^ d) % n\n",
    "m = pow(c, d)\n",
    "m = math.fmod(m, n)\n",
    "print(\"Original Message Sent = \", m)"
   ]
  },
  {
   "cell_type": "code",
   "execution_count": 26,
   "id": "5c61b1a3",
   "metadata": {},
   "outputs": [
    {
     "name": "stdout",
     "output_type": "stream",
     "text": [
      "Private key pair are(d,n) (3, 33)\n",
      "public key pair are (e,n) (7, 33)\n",
      "Message data =  31\n",
      "Encryption msg is  4\n",
      "Decryption msg is  31\n"
     ]
    }
   ],
   "source": [
    "def gcd(a, b):\n",
    "    if a == 0:\n",
    "        return b\n",
    " \n",
    "    return gcd(b % a, a)\n",
    "\n",
    "p =3\n",
    "q = 11\n",
    "n = p*q\n",
    "phi = (p-1)*(q-1)\n",
    "\n",
    "while (e < phi):\n",
    "  \n",
    "    # e must be co-prime to phi and\n",
    "    # smaller than phi.\n",
    "    if(gcd(e, phi) == 1):\n",
    "        break\n",
    "    else:\n",
    "        e = e+1\n",
    "\n",
    "# generate Private key\n",
    "d = 0\n",
    "for i in range(phi):\n",
    "    if ((i*e) % phi == 1):\n",
    "        d = i\n",
    "        \n",
    "print(\"Private key pair are(d,n)\",(d,n))\n",
    "print(\"public key pair are (e,n)\",(e,n))\n",
    "# message to be encrypted\n",
    "\n",
    "msg = 31\n",
    "print(\"Message data = \", msg)\n",
    "\n",
    "# Encryption\n",
    "Encryption = msg ** e % n\n",
    "print(\"Encryption msg is \",Encryption )\n",
    "\n",
    "# Decryption\n",
    "decryption = pow(Encryption,d,n)\n",
    "print(\"Decryption msg is \",decryption)"
   ]
  },
  {
   "cell_type": "code",
   "execution_count": null,
   "id": "813c4f50",
   "metadata": {},
   "outputs": [],
   "source": []
  }
 ],
 "metadata": {
  "kernelspec": {
   "display_name": "Python 3 (ipykernel)",
   "language": "python",
   "name": "python3"
  },
  "language_info": {
   "codemirror_mode": {
    "name": "ipython",
    "version": 3
   },
   "file_extension": ".py",
   "mimetype": "text/x-python",
   "name": "python",
   "nbconvert_exporter": "python",
   "pygments_lexer": "ipython3",
   "version": "3.9.12"
  }
 },
 "nbformat": 4,
 "nbformat_minor": 5
}

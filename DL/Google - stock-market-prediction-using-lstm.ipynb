{
 "cells": [
  {
   "cell_type": "code",
   "execution_count": 1,
   "metadata": {
    "_cell_guid": "b1076dfc-b9ad-4769-8c92-a6c4dae69d19",
    "_uuid": "8f2839f25d086af736a60e9eeb907d3b93b6e0e5"
   },
   "outputs": [],
   "source": [
    "from keras.models import Sequential\n",
    "from keras.layers import Dense, LSTM, Dropout, Activation\n",
    "\n",
    "from sklearn.preprocessing import MinMaxScaler\n",
    "\n",
    "import numpy as np # linear algebra\n",
    "import pandas as pd # data processing, CSV file I/O (e.g. pd.read_csv)\n",
    "\n",
    "\n",
    "import matplotlib.pyplot as plt"
   ]
  },
  {
   "cell_type": "code",
   "execution_count": 2,
   "metadata": {
    "_cell_guid": "79c7e3d0-c299-4dcb-8224-4455121ee9b0",
    "_uuid": "d629ff2d2480ee46fbb7e2d37f6b5fab8052498a"
   },
   "outputs": [],
   "source": [
    "train = pd.read_csv(r'D:\\DataSets\\Google Stock Price Prediction\\trainset.csv')\n",
    "test = pd.read_csv(r'D:\\DataSets\\Google Stock Price Prediction\\testset.csv')"
   ]
  },
  {
   "cell_type": "code",
   "execution_count": 3,
   "metadata": {},
   "outputs": [
    {
     "data": {
      "text/plain": [
       "((1259, 7), (125, 7))"
      ]
     },
     "execution_count": 3,
     "metadata": {},
     "output_type": "execute_result"
    }
   ],
   "source": [
    "train.shape,test.shape"
   ]
  },
  {
   "cell_type": "code",
   "execution_count": 4,
   "metadata": {},
   "outputs": [
    {
     "name": "stdout",
     "output_type": "stream",
     "text": [
      "<class 'pandas.core.frame.DataFrame'>\n",
      "RangeIndex: 1259 entries, 0 to 1258\n",
      "Data columns (total 7 columns):\n",
      " #   Column     Non-Null Count  Dtype  \n",
      "---  ------     --------------  -----  \n",
      " 0   Date       1259 non-null   object \n",
      " 1   Open       1259 non-null   float64\n",
      " 2   High       1259 non-null   float64\n",
      " 3   Low        1259 non-null   float64\n",
      " 4   Close      1259 non-null   float64\n",
      " 5   Adj Close  1259 non-null   float64\n",
      " 6   Volume     1259 non-null   int64  \n",
      "dtypes: float64(5), int64(1), object(1)\n",
      "memory usage: 69.0+ KB\n"
     ]
    }
   ],
   "source": [
    "train.info()"
   ]
  },
  {
   "cell_type": "code",
   "execution_count": 5,
   "metadata": {},
   "outputs": [
    {
     "name": "stdout",
     "output_type": "stream",
     "text": [
      "<class 'pandas.core.frame.DataFrame'>\n",
      "RangeIndex: 125 entries, 0 to 124\n",
      "Data columns (total 7 columns):\n",
      " #   Column     Non-Null Count  Dtype  \n",
      "---  ------     --------------  -----  \n",
      " 0   Date       125 non-null    object \n",
      " 1   Open       125 non-null    float64\n",
      " 2   High       125 non-null    float64\n",
      " 3   Low        125 non-null    float64\n",
      " 4   Close      125 non-null    float64\n",
      " 5   Adj Close  125 non-null    float64\n",
      " 6   Volume     125 non-null    int64  \n",
      "dtypes: float64(5), int64(1), object(1)\n",
      "memory usage: 7.0+ KB\n"
     ]
    }
   ],
   "source": [
    "test.info()"
   ]
  },
  {
   "cell_type": "markdown",
   "metadata": {
    "_uuid": "d9fa01faa782440645f11427c984499867ff50a5"
   },
   "source": [
    "### Hyperparameters"
   ]
  },
  {
   "cell_type": "code",
   "execution_count": 6,
   "metadata": {
    "_uuid": "e3a7dd2d7dbc43266c8511488f2fd1a7ab616de1"
   },
   "outputs": [],
   "source": [
    "metric = 'Open' # What matric to model and predict\n",
    "timestamp = 64 # Maximum number of timestamps to learn from\n",
    "layers = 3 # Number of layers in LSTM\n",
    "neurons = 264 # Number of neurons in each layer\n",
    "epochs = 64 # Number of times the entire data needs to be looped upon\n",
    "batch_size = 16 # Weights updated after n rows\n",
    "validation_split = 0.1 # Percentage of data to validate the model when training\n",
    "dropout = 0.2 # Regularisation parameter\n",
    "optimizer = 'adam' \n",
    "loss = 'mean_squared_error'"
   ]
  },
  {
   "cell_type": "code",
   "execution_count": 7,
   "metadata": {
    "_uuid": "6e4b434e155bbffbd42b2b703f6efc8260adb851"
   },
   "outputs": [],
   "source": [
    "loc = train.columns.get_loc(metric)\n",
    "train_data = train.iloc[:,loc:loc + 1].values"
   ]
  },
  {
   "cell_type": "code",
   "execution_count": 8,
   "metadata": {},
   "outputs": [
    {
     "data": {
      "text/plain": [
       "array([[ 357.385559],\n",
       "       [ 360.122742],\n",
       "       [ 362.313507],\n",
       "       ...,\n",
       "       [1057.390015],\n",
       "       [1051.599976],\n",
       "       [1046.719971]])"
      ]
     },
     "execution_count": 8,
     "metadata": {},
     "output_type": "execute_result"
    }
   ],
   "source": [
    "train_data"
   ]
  },
  {
   "cell_type": "code",
   "execution_count": 9,
   "metadata": {
    "_uuid": "d465061dcd0196582b6c79970908e4ee86e18265"
   },
   "outputs": [],
   "source": [
    "sc = MinMaxScaler(feature_range = (0,1))\n",
    "\n",
    "train_data = sc.fit_transform(train_data)"
   ]
  },
  {
   "cell_type": "code",
   "execution_count": 10,
   "metadata": {
    "_uuid": "afabd4c898fcf3faae8f5d4b5bb3b38e9e2827c5"
   },
   "outputs": [],
   "source": [
    "train_x = []\n",
    "train_y = []\n",
    "for i in range(0, len(train_data) - timestamp - 1):\n",
    "    train_x.append(train_data[i : i + timestamp, 0])\n",
    "    train_y.append(train_data[i + timestamp, 0])\n",
    "train_x, train_y = np.array(train_x), np.array(train_y)"
   ]
  },
  {
   "cell_type": "code",
   "execution_count": 11,
   "metadata": {},
   "outputs": [
    {
     "data": {
      "text/plain": [
       "(array([[0.01011148, 0.01388614, 0.01690727, ..., 0.06842378, 0.07453452,\n",
       "         0.0682251 ],\n",
       "        [0.01388614, 0.01690727, 0.02109298, ..., 0.07453452, 0.0682251 ,\n",
       "         0.05576386],\n",
       "        [0.01690727, 0.02109298, 0.02115463, ..., 0.0682251 , 0.05576386,\n",
       "         0.05075608],\n",
       "        ...,\n",
       "        [0.79349015, 0.79110436, 0.7966481 , ..., 0.99528382, 0.98586493,\n",
       "         0.9805695 ],\n",
       "        [0.79110436, 0.7966481 , 0.8154305 , ..., 0.98586493, 0.9805695 ,\n",
       "         0.97637719],\n",
       "        [0.7966481 , 0.8154305 , 0.83010341, ..., 0.9805695 , 0.97637719,\n",
       "         0.97543954]]),\n",
       " array([0.05576386, 0.05075608, 0.04852963, ..., 0.97637719, 0.97543954,\n",
       "        0.9674549 ]))"
      ]
     },
     "execution_count": 11,
     "metadata": {},
     "output_type": "execute_result"
    }
   ],
   "source": [
    "train_x, train_y"
   ]
  },
  {
   "cell_type": "code",
   "execution_count": 12,
   "metadata": {},
   "outputs": [
    {
     "data": {
      "text/plain": [
       "((1194, 64), (1194,))"
      ]
     },
     "execution_count": 12,
     "metadata": {},
     "output_type": "execute_result"
    }
   ],
   "source": [
    "train_x.shape,train_y.shape"
   ]
  },
  {
   "cell_type": "code",
   "execution_count": 13,
   "metadata": {
    "_uuid": "148ab71ac0ffd078fd0149ce042539cc4ea43097"
   },
   "outputs": [
    {
     "data": {
      "text/plain": [
       "(1194, 64, 1)"
      ]
     },
     "execution_count": 13,
     "metadata": {},
     "output_type": "execute_result"
    }
   ],
   "source": [
    "train_x = np.reshape(train_x, (train_x.shape[0],train_x.shape[1],1))\n",
    "train_x.shape"
   ]
  },
  {
   "cell_type": "code",
   "execution_count": 15,
   "metadata": {
    "_uuid": "c72108d3ff41565288009d06cc5b7b281cdf641d"
   },
   "outputs": [],
   "source": [
    "regressor = Sequential()\n",
    "regressor.add(LSTM(neurons, return_sequences = True, input_shape = (train_x.shape[1],1)))\n",
    "regressor.add(Dropout(dropout))\n",
    "\n",
    "if layers > 2:\n",
    "    for i in range(2,layers):\n",
    "        regressor.add(LSTM(neurons, return_sequences = True))\n",
    "        regressor.add(Dropout(dropout))\n",
    "\n",
    "regressor.add(LSTM(neurons))\n",
    "regressor.add(Dropout(dropout))\n",
    "\n",
    "regressor.add(Dense(units = 1))\n",
    "\n",
    "regressor.compile(optimizer = optimizer,loss = loss,metrics=['accuracy'])"
   ]
  },
  {
   "cell_type": "code",
   "execution_count": null,
   "metadata": {
    "_uuid": "3be980db2184ac5b5ee742bab0cb4447b9b39c88"
   },
   "outputs": [],
   "source": [
    "regressor.summary()"
   ]
  },
  {
   "cell_type": "code",
   "execution_count": 16,
   "metadata": {
    "_uuid": "29a2cdb7025c0fcdd0038e81aaa92058a1a1eb5f"
   },
   "outputs": [
    {
     "name": "stdout",
     "output_type": "stream",
     "text": [
      "Epoch 1/20\n",
      "68/68 [==============================] - 38s 470ms/step - loss: 0.0157 - accuracy: 0.0000e+00 - val_loss: 0.0065 - val_accuracy: 0.0083\n",
      "Epoch 2/20\n",
      "68/68 [==============================] - 30s 443ms/step - loss: 0.0016 - accuracy: 0.0000e+00 - val_loss: 0.0028 - val_accuracy: 0.0083\n",
      "Epoch 3/20\n",
      "68/68 [==============================] - 30s 437ms/step - loss: 0.0016 - accuracy: 0.0000e+00 - val_loss: 0.0025 - val_accuracy: 0.0083\n",
      "Epoch 4/20\n",
      "68/68 [==============================] - 28s 412ms/step - loss: 0.0012 - accuracy: 0.0000e+00 - val_loss: 9.5770e-04 - val_accuracy: 0.0083\n",
      "Epoch 5/20\n",
      "68/68 [==============================] - 30s 445ms/step - loss: 0.0013 - accuracy: 0.0000e+00 - val_loss: 9.0551e-04 - val_accuracy: 0.0083\n",
      "Epoch 6/20\n",
      "68/68 [==============================] - 34s 497ms/step - loss: 0.0012 - accuracy: 0.0000e+00 - val_loss: 6.1417e-04 - val_accuracy: 0.0083\n",
      "Epoch 7/20\n",
      "68/68 [==============================] - 31s 458ms/step - loss: 0.0012 - accuracy: 0.0000e+00 - val_loss: 0.0017 - val_accuracy: 0.0083\n",
      "Epoch 8/20\n",
      "68/68 [==============================] - 31s 455ms/step - loss: 0.0013 - accuracy: 0.0000e+00 - val_loss: 0.0075 - val_accuracy: 0.0083\n",
      "Epoch 9/20\n",
      "68/68 [==============================] - 31s 457ms/step - loss: 0.0012 - accuracy: 0.0000e+00 - val_loss: 0.0028 - val_accuracy: 0.0083\n",
      "Epoch 10/20\n",
      "68/68 [==============================] - 32s 474ms/step - loss: 0.0013 - accuracy: 0.0000e+00 - val_loss: 0.0024 - val_accuracy: 0.0083\n",
      "Epoch 11/20\n",
      "68/68 [==============================] - 34s 504ms/step - loss: 0.0011 - accuracy: 0.0000e+00 - val_loss: 6.2970e-04 - val_accuracy: 0.0083\n",
      "Epoch 12/20\n",
      "68/68 [==============================] - 33s 490ms/step - loss: 0.0011 - accuracy: 0.0000e+00 - val_loss: 6.1908e-04 - val_accuracy: 0.0083\n",
      "Epoch 13/20\n",
      "68/68 [==============================] - 34s 500ms/step - loss: 0.0012 - accuracy: 0.0000e+00 - val_loss: 5.7652e-04 - val_accuracy: 0.0083\n",
      "Epoch 14/20\n",
      "68/68 [==============================] - 34s 506ms/step - loss: 0.0011 - accuracy: 0.0000e+00 - val_loss: 0.0016 - val_accuracy: 0.0083\n",
      "Epoch 15/20\n",
      "68/68 [==============================] - 32s 478ms/step - loss: 0.0011 - accuracy: 0.0000e+00 - val_loss: 0.0067 - val_accuracy: 0.0083\n",
      "Epoch 16/20\n",
      "68/68 [==============================] - 36s 529ms/step - loss: 0.0011 - accuracy: 0.0000e+00 - val_loss: 6.4473e-04 - val_accuracy: 0.0083\n",
      "Epoch 17/20\n",
      "68/68 [==============================] - 37s 541ms/step - loss: 9.5363e-04 - accuracy: 0.0000e+00 - val_loss: 4.6818e-04 - val_accuracy: 0.0083\n",
      "Epoch 18/20\n",
      "68/68 [==============================] - 35s 508ms/step - loss: 8.0718e-04 - accuracy: 0.0000e+00 - val_loss: 9.1690e-04 - val_accuracy: 0.0083\n",
      "Epoch 19/20\n",
      "68/68 [==============================] - 37s 538ms/step - loss: 0.0010 - accuracy: 0.0000e+00 - val_loss: 0.0017 - val_accuracy: 0.0083\n",
      "Epoch 20/20\n",
      "68/68 [==============================] - 33s 487ms/step - loss: 0.0012 - accuracy: 0.0000e+00 - val_loss: 4.7830e-04 - val_accuracy: 0.0083\n"
     ]
    },
    {
     "data": {
      "text/plain": [
       "<keras.callbacks.History at 0x2c16c5c3a30>"
      ]
     },
     "execution_count": 16,
     "metadata": {},
     "output_type": "execute_result"
    }
   ],
   "source": [
    "regressor.fit(train_x,train_y,epochs = 20, batch_size = batch_size, validation_split = validation_split)"
   ]
  },
  {
   "cell_type": "code",
   "execution_count": null,
   "metadata": {},
   "outputs": [],
   "source": [
    "plt.figure(figsize =(10,5))\n",
    "plt.plot(history2.history[\"loss\"])\n",
    "plt.xlabel(\"Epochs\")\n",
    "plt.ylabel(\"Losses\")\n",
    "plt.title(\"LSTM model, Accuracy vs Epoch\")\n",
    "plt.show()"
   ]
  },
  {
   "cell_type": "code",
   "execution_count": 17,
   "metadata": {
    "_uuid": "23f0b334c94105c147cbd4884cbb57466920b6fb",
    "scrolled": true
   },
   "outputs": [],
   "source": [
    "test_data = pd.concat((train[len(train) - timestamp:][metric], test[metric]), axis = 0)\n",
    "test_data = test_data.values\n",
    "test_data = test_data.reshape(-1,1)"
   ]
  },
  {
   "cell_type": "code",
   "execution_count": 18,
   "metadata": {
    "_uuid": "1ed73a5c9af51cb47afc5567eee0b8526880e097"
   },
   "outputs": [],
   "source": [
    "test_data = sc.transform(test_data)"
   ]
  },
  {
   "cell_type": "code",
   "execution_count": 19,
   "metadata": {
    "_uuid": "3c29f113fc6714395e19e514c678a435fc16d1ea"
   },
   "outputs": [],
   "source": [
    "test_x = []\n",
    "test_y = []\n",
    "for i in range(0, len(test_data) - timestamp - 1):\n",
    "    test_x.append(test_data[i : i + timestamp, 0])\n",
    "    test_y.append(test_data[i + timestamp, 0])\n",
    "test_x, test_y = np.array(test_x), np.array(test_y)"
   ]
  },
  {
   "cell_type": "code",
   "execution_count": 20,
   "metadata": {
    "_uuid": "deb00effb60ff99703c98e89f5ec2da37b1ca7ad"
   },
   "outputs": [],
   "source": [
    "test_x = np.reshape(test_x, (test_x.shape[0],test_x.shape[1],1))"
   ]
  },
  {
   "cell_type": "code",
   "execution_count": 21,
   "metadata": {
    "_uuid": "10eebdcf66ab386be72dd576d86f6fcadeb8b907"
   },
   "outputs": [
    {
     "name": "stdout",
     "output_type": "stream",
     "text": [
      "4/4 [==============================] - 2s 189ms/step\n"
     ]
    }
   ],
   "source": [
    "predicted_price = sc.inverse_transform(regressor.predict(test_x))\n",
    "real_stock_price = test[metric]"
   ]
  },
  {
   "cell_type": "code",
   "execution_count": 22,
   "metadata": {
    "_uuid": "beaff55249184b55d31f31445bd334aa6ccf688f"
   },
   "outputs": [
    {
     "data": {
      "image/png": "[encoded data removed]",
      "text/plain": [
       "<Figure size 432x288 with 1 Axes>"
      ]
     },
     "metadata": {
      "needs_background": "light"
     },
     "output_type": "display_data"
    }
   ],
   "source": [
    "def plot_pred(metric, real_stock_price, predicted_price):\n",
    "    plt.plot(real_stock_price,color = 'red', label = 'Real Price')\n",
    "    plt.plot(predicted_price, color = 'blue', label = 'Predicted Price')\n",
    "    plt.title('Google ' +metric+ ' Stock Price Prediction')\n",
    "    plt.xlabel('Time')\n",
    "    plt.ylabel('Google ' +metric+ ' Stock Price')\n",
    "    plt.legend()\n",
    "    plt.show()\n",
    "\n",
    "plot_pred(metric, real_stock_price, predicted_price)"
   ]
  },
  {
   "cell_type": "code",
   "execution_count": null,
   "metadata": {},
   "outputs": [],
   "source": []
  }
 ],
 "metadata": {
  "kernelspec": {
   "display_name": "Python 3 (ipykernel)",
   "language": "python",
   "name": "python3"
  },
  "language_info": {
   "codemirror_mode": {
    "name": "ipython",
    "version": 3
   },
   "file_extension": ".py",
   "mimetype": "text/x-python",
   "name": "python",
   "nbconvert_exporter": "python",
   "pygments_lexer": "ipython3",
   "version": "3.9.12"
  }
 },
 "nbformat": 4,
 "nbformat_minor": 1
}

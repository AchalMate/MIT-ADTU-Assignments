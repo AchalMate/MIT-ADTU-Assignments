{
 "cells": [
  {
   "cell_type": "markdown",
   "id": "14432e6b",
   "metadata": {},
   "source": [
    "<h3><font style=\"color:red;\">Title:- </font>\n",
    "Write a program to demonstrate the change in accuracy/loss/convergence time with change in \n",
    "optimizers like stochastic gradient descent, adam, adagrad, RMSprop and Nadam for any suitable \n",
    "application.</h3>"
   ]
  },
  {
   "cell_type": "markdown",
   "id": "5771eea5",
   "metadata": {},
   "source": [
    "<h3><font style=\"color:red;\">Implementation Code:</font></h3>\n",
    "Implementation of CNN Custom Dataset (Cat-Dog)"
   ]
  },
  {
   "cell_type": "markdown",
   "id": "e9c31daf",
   "metadata": {},
   "source": [
    "<h3><font style=\"color:red;\">Dataset Used:</font></h3>\n",
    "1.Kaggle - Cat VS Dog "
   ]
  },
  {
   "cell_type": "code",
   "execution_count": 15,
   "id": "b8a67006",
   "metadata": {},
   "outputs": [],
   "source": [
    "import numpy as np\n",
    "import pandas as pd \n",
    "import seaborn as sns\n",
    "import warnings\n",
    "warnings.filterwarnings('ignore')\n",
    "import matplotlib.pyplot as plt"
   ]
  },
  {
   "cell_type": "code",
   "execution_count": 2,
   "id": "ce30895c",
   "metadata": {},
   "outputs": [],
   "source": [
    "import tensorflow as tf\n",
    "from tensorflow import keras\n",
    "from keras.preprocessing.image import ImageDataGenerator\n",
    "\n",
    "from tensorflow.keras import layers\n",
    "from keras.models import load_model\n",
    "from keras.models import Sequential\n",
    "from keras.layers import Conv2D, MaxPooling2D\n",
    "from keras.layers import Activation, Dropout, Flatten, Dense,BatchNormalization"
   ]
  },
  {
   "cell_type": "code",
   "execution_count": 5,
   "id": "ec31a031",
   "metadata": {},
   "outputs": [],
   "source": [
    "train_dir = r\"D:\\DataSets\\Cat_and_Dog\\training_set\"\n",
    "test_dir = r\"D:\\DataSets\\Cat_and_Dog\\test_set\""
   ]
  },
  {
   "cell_type": "code",
   "execution_count": 6,
   "id": "42bfdf24",
   "metadata": {},
   "outputs": [],
   "source": [
    "train_data=ImageDataGenerator(rotation_range=40,\n",
    "        width_shift_range=0.2,\n",
    "        height_shift_range=0.2,\n",
    "        rescale=1./255,\n",
    "        shear_range=0.2,\n",
    "        zoom_range=0.2,\n",
    "        horizontal_flip=True,\n",
    "        fill_mode='nearest')\n",
    "test_data=ImageDataGenerator(rescale=1./255)"
   ]
  },
  {
   "cell_type": "code",
   "execution_count": 7,
   "id": "45db4bb2",
   "metadata": {},
   "outputs": [
    {
     "name": "stdout",
     "output_type": "stream",
     "text": [
      "Found 8000 images belonging to 2 classes.\n",
      "Found 2000 images belonging to 2 classes.\n"
     ]
    }
   ],
   "source": [
    "train_set=train_data.flow_from_directory(directory=train_dir,target_size=(128,128),batch_size=32,color_mode=\"rgb\",class_mode = 'binary')\n",
    "validation_set=test_data.flow_from_directory(directory=test_dir,target_size=(128,128),batch_size=30,shuffle=True,class_mode = 'binary',color_mode=\"rgb\")"
   ]
  },
  {
   "cell_type": "code",
   "execution_count": 6,
   "id": "82f2662a",
   "metadata": {},
   "outputs": [],
   "source": [
    "cnn = Sequential()\n",
    "\n",
    " \n",
    "cnn.add(Conv2D(32,(3,3),input_shape=(128,128,3),activation='relu'))\n",
    "cnn.add(MaxPooling2D(pool_size=(2,2)))\n",
    "\n",
    "cnn.add(Conv2D(32,(3,3),activation='relu'))\n",
    "cnn.add(MaxPooling2D(pool_size=(2,2)))\n",
    "cnn.add(Conv2D(64, (3, 3)))\n",
    "cnn.add(Activation('relu'))\n",
    "\n",
    "\n",
    "cnn.add(Flatten())\n",
    "\n",
    "cnn.add(Dense(64,activation='relu'))\n",
    "cnn.add(Dropout(0.5))\n",
    "cnn.add(Dense(1,activation='sigmoid'))"
   ]
  },
  {
   "cell_type": "code",
   "execution_count": null,
   "id": "1876afe5",
   "metadata": {
    "scrolled": true
   },
   "outputs": [],
   "source": [
    "# summary of the model\n",
    "cnn.summary()"
   ]
  },
  {
   "cell_type": "code",
   "execution_count": 8,
   "id": "af45eb44",
   "metadata": {},
   "outputs": [],
   "source": [
    "cnn.compile(optimizer='adam',loss='binary_crossentropy',metrics=['accuracy'])"
   ]
  },
  {
   "cell_type": "code",
   "execution_count": 9,
   "id": "9649e0a0",
   "metadata": {},
   "outputs": [
    {
     "name": "stdout",
     "output_type": "stream",
     "text": [
      "Epoch 1/10\n",
      "250/250 [==============================] - 250s 991ms/step - loss: 0.6890 - accuracy: 0.5390 - val_loss: 0.6660 - val_accuracy: 0.5980\n",
      "Epoch 2/10\n",
      "250/250 [==============================] - 273s 1s/step - loss: 0.6676 - accuracy: 0.6000 - val_loss: 0.6530 - val_accuracy: 0.6075\n",
      "Epoch 3/10\n",
      "250/250 [==============================] - 287s 1s/step - loss: 0.6349 - accuracy: 0.6436 - val_loss: 0.5907 - val_accuracy: 0.6880\n",
      "Epoch 4/10\n",
      "250/250 [==============================] - 266s 1s/step - loss: 0.6234 - accuracy: 0.6539 - val_loss: 0.5697 - val_accuracy: 0.6995\n",
      "Epoch 5/10\n",
      "250/250 [==============================] - 255s 1s/step - loss: 0.5884 - accuracy: 0.6948 - val_loss: 0.5297 - val_accuracy: 0.7320\n",
      "Epoch 6/10\n",
      "250/250 [==============================] - 264s 1s/step - loss: 0.5852 - accuracy: 0.6967 - val_loss: 0.5204 - val_accuracy: 0.7435\n",
      "Epoch 7/10\n",
      "250/250 [==============================] - 280s 1s/step - loss: 0.5733 - accuracy: 0.7040 - val_loss: 0.5135 - val_accuracy: 0.7405\n",
      "Epoch 8/10\n",
      "250/250 [==============================] - 287s 1s/step - loss: 0.5536 - accuracy: 0.7211 - val_loss: 0.4884 - val_accuracy: 0.7655\n",
      "Epoch 9/10\n",
      "250/250 [==============================] - 269s 1s/step - loss: 0.5433 - accuracy: 0.7294 - val_loss: 0.4896 - val_accuracy: 0.7665\n",
      "Epoch 10/10\n",
      "250/250 [==============================] - 266s 1s/step - loss: 0.5424 - accuracy: 0.7280 - val_loss: 0.4861 - val_accuracy: 0.7585\n"
     ]
    }
   ],
   "source": [
    "model_history=cnn.fit(train_set,validation_data=validation_set,epochs=10)"
   ]
  },
  {
   "cell_type": "code",
   "execution_count": 12,
   "id": "d13570d9",
   "metadata": {},
   "outputs": [],
   "source": [
    "cnn.save('dog-cat-model1.h5')"
   ]
  },
  {
   "cell_type": "code",
   "execution_count": 3,
   "id": "78b3b0d2",
   "metadata": {},
   "outputs": [],
   "source": [
    "model = keras.models.load_model('dog-cat-model1.h5')"
   ]
  },
  {
   "cell_type": "code",
   "execution_count": 8,
   "id": "c70d55dc",
   "metadata": {},
   "outputs": [
    {
     "name": "stdout",
     "output_type": "stream",
     "text": [
      "67/67 [==============================] - 78s 1s/step - loss: 0.5316 - accuracy: 0.7870\n"
     ]
    },
    {
     "data": {
      "text/plain": [
       "[0.5315890908241272, 0.7870000004768372]"
      ]
     },
     "execution_count": 8,
     "metadata": {},
     "output_type": "execute_result"
    }
   ],
   "source": [
    "model.evaluate_generator(validation_set,verbose=1)"
   ]
  },
  {
   "cell_type": "code",
   "execution_count": 31,
   "id": "70fd83c3",
   "metadata": {
    "collapsed": true
   },
   "outputs": [
    {
     "name": "stdout",
     "output_type": "stream",
     "text": [
      "Model: \"sequential\"\n",
      "_________________________________________________________________\n",
      " Layer (type)                Output Shape              Param #   \n",
      "=================================================================\n",
      " conv2d (Conv2D)             (None, 126, 126, 32)      896       \n",
      "                                                                 \n",
      " activation (Activation)     (None, 126, 126, 32)      0         \n",
      "                                                                 \n",
      " max_pooling2d (MaxPooling2D  (None, 63, 63, 32)       0         \n",
      " )                                                               \n",
      "                                                                 \n",
      " conv2d_1 (Conv2D)           (None, 61, 61, 32)        9248      \n",
      "                                                                 \n",
      " activation_1 (Activation)   (None, 61, 61, 32)        0         \n",
      "                                                                 \n",
      " dropout (Dropout)           (None, 61, 61, 32)        0         \n",
      "                                                                 \n",
      " max_pooling2d_1 (MaxPooling  (None, 30, 30, 32)       0         \n",
      " 2D)                                                             \n",
      "                                                                 \n",
      " conv2d_2 (Conv2D)           (None, 28, 28, 64)        18496     \n",
      "                                                                 \n",
      " activation_2 (Activation)   (None, 28, 28, 64)        0         \n",
      "                                                                 \n",
      " dropout_1 (Dropout)         (None, 28, 28, 64)        0         \n",
      "                                                                 \n",
      " max_pooling2d_2 (MaxPooling  (None, 14, 14, 64)       0         \n",
      " 2D)                                                             \n",
      "                                                                 \n",
      " flatten (Flatten)           (None, 12544)             0         \n",
      "                                                                 \n",
      " dense (Dense)               (None, 64)                802880    \n",
      "                                                                 \n",
      " dropout_2 (Dropout)         (None, 64)                0         \n",
      "                                                                 \n",
      " dense_1 (Dense)             (None, 1)                 65        \n",
      "                                                                 \n",
      "=================================================================\n",
      "Total params: 831,585\n",
      "Trainable params: 831,585\n",
      "Non-trainable params: 0\n",
      "_________________________________________________________________\n"
     ]
    }
   ],
   "source": [
    "model = Sequential()\n",
    "model.add(Conv2D(32, (3, 3), input_shape=(128,128,3)))\n",
    "model.add(Activation('relu'))\n",
    "model.add(MaxPooling2D(pool_size=(2, 2)))\n",
    "model.add(Conv2D(32, (3, 3)))\n",
    "model.add(Activation('relu'))\n",
    "model.add(Dropout(0.2))\n",
    "model.add(MaxPooling2D(pool_size=(2, 2)))\n",
    "model.add(Conv2D(64, (3, 3)))\n",
    "model.add(Activation('relu'))\n",
    "model.add(Dropout(0.5))\n",
    "model.add(MaxPooling2D(pool_size=(2, 2)))\n",
    "model.add(Flatten())\n",
    "model.add(Dense(64,activation='relu'))\n",
    "model.add(Dropout(0.5))\n",
    "model.add(Dense(1, activation='sigmoid'))\n",
    "model.summary()"
   ]
  },
  {
   "cell_type": "code",
   "execution_count": 7,
   "id": "8131bcd4",
   "metadata": {},
   "outputs": [],
   "source": [
    "model.compile(optimizer='rmsprop',loss='binary_crossentropy', metrics=['accuracy'])"
   ]
  },
  {
   "cell_type": "code",
   "execution_count": 8,
   "id": "5b30f7e9",
   "metadata": {},
   "outputs": [
    {
     "name": "stdout",
     "output_type": "stream",
     "text": [
      "Epoch 1/10\n",
      "250/250 [==============================] - 240s 958ms/step - loss: 0.6813 - accuracy: 0.5799 - val_loss: 0.6257 - val_accuracy: 0.7165\n",
      "Epoch 2/10\n",
      "250/250 [==============================] - 255s 1s/step - loss: 0.6014 - accuracy: 0.6842 - val_loss: 0.5735 - val_accuracy: 0.6935\n",
      "Epoch 3/10\n",
      "250/250 [==============================] - 254s 1s/step - loss: 0.5394 - accuracy: 0.7344 - val_loss: 0.5422 - val_accuracy: 0.7555\n",
      "Epoch 4/10\n",
      "250/250 [==============================] - 251s 1s/step - loss: 0.4982 - accuracy: 0.7586 - val_loss: 0.5362 - val_accuracy: 0.7425\n",
      "Epoch 5/10\n",
      "250/250 [==============================] - 259s 1s/step - loss: 0.4663 - accuracy: 0.7905 - val_loss: 0.4782 - val_accuracy: 0.7940\n",
      "Epoch 6/10\n",
      "250/250 [==============================] - 241s 963ms/step - loss: 0.4353 - accuracy: 0.8096 - val_loss: 0.4780 - val_accuracy: 0.7920\n",
      "Epoch 7/10\n",
      "250/250 [==============================] - 240s 959ms/step - loss: 0.4197 - accuracy: 0.8184 - val_loss: 0.4713 - val_accuracy: 0.7965\n",
      "Epoch 8/10\n",
      "250/250 [==============================] - 237s 947ms/step - loss: 0.3913 - accuracy: 0.8324 - val_loss: 0.4647 - val_accuracy: 0.7845\n",
      "Epoch 9/10\n",
      "250/250 [==============================] - 245s 979ms/step - loss: 0.3881 - accuracy: 0.8357 - val_loss: 0.4499 - val_accuracy: 0.8020\n",
      "Epoch 10/10\n",
      "250/250 [==============================] - 260s 1s/step - loss: 0.3684 - accuracy: 0.8414 - val_loss: 0.4286 - val_accuracy: 0.8115\n"
     ]
    }
   ],
   "source": [
    "model_history=model.fit(train_set,validation_data=validation_set,epochs=10)"
   ]
  },
  {
   "cell_type": "code",
   "execution_count": null,
   "id": "7f6032f8",
   "metadata": {},
   "outputs": [],
   "source": [
    "model.save('dog-cat-model2.h5')"
   ]
  },
  {
   "cell_type": "code",
   "execution_count": 9,
   "id": "d6459043",
   "metadata": {},
   "outputs": [
    {
     "name": "stdout",
     "output_type": "stream",
     "text": [
      "67/67 [==============================] - 26s 367ms/step - loss: 0.4286 - accuracy: 0.8115\n"
     ]
    },
    {
     "data": {
      "text/plain": [
       "[0.42861208319664, 0.8115000128746033]"
      ]
     },
     "execution_count": 9,
     "metadata": {},
     "output_type": "execute_result"
    }
   ],
   "source": [
    "model = keras.models.load_model('dog-cat-model2.h5')\n",
    "model.evaluate_generator(validation_set,verbose=1)"
   ]
  },
  {
   "cell_type": "code",
   "execution_count": 11,
   "id": "3adc9c7e",
   "metadata": {
    "collapsed": true
   },
   "outputs": [
    {
     "name": "stdout",
     "output_type": "stream",
     "text": [
      "Model: \"sequential_1\"\n",
      "_________________________________________________________________\n",
      " Layer (type)                Output Shape              Param #   \n",
      "=================================================================\n",
      " conv2d_3 (Conv2D)           (None, 126, 126, 32)      896       \n",
      "                                                                 \n",
      " activation_1 (Activation)   (None, 126, 126, 32)      0         \n",
      "                                                                 \n",
      " batch_normalization (BatchN  (None, 126, 126, 32)     128       \n",
      " ormalization)                                                   \n",
      "                                                                 \n",
      " max_pooling2d_3 (MaxPooling  (None, 63, 63, 32)       0         \n",
      " 2D)                                                             \n",
      "                                                                 \n",
      " dropout_1 (Dropout)         (None, 63, 63, 32)        0         \n",
      "                                                                 \n",
      " conv2d_4 (Conv2D)           (None, 61, 61, 64)        18496     \n",
      "                                                                 \n",
      " batch_normalization_1 (Batc  (None, 61, 61, 64)       256       \n",
      " hNormalization)                                                 \n",
      "                                                                 \n",
      " max_pooling2d_4 (MaxPooling  (None, 30, 30, 64)       0         \n",
      " 2D)                                                             \n",
      "                                                                 \n",
      " dropout_2 (Dropout)         (None, 30, 30, 64)        0         \n",
      "                                                                 \n",
      " conv2d_5 (Conv2D)           (None, 28, 28, 128)       73856     \n",
      "                                                                 \n",
      " batch_normalization_2 (Batc  (None, 28, 28, 128)      512       \n",
      " hNormalization)                                                 \n",
      "                                                                 \n",
      " max_pooling2d_5 (MaxPooling  (None, 14, 14, 128)      0         \n",
      " 2D)                                                             \n",
      "                                                                 \n",
      " dropout_3 (Dropout)         (None, 14, 14, 128)       0         \n",
      "                                                                 \n",
      " flatten_1 (Flatten)         (None, 25088)             0         \n",
      "                                                                 \n",
      " dense_2 (Dense)             (None, 512)               12845568  \n",
      "                                                                 \n",
      " batch_normalization_3 (Batc  (None, 512)              2048      \n",
      " hNormalization)                                                 \n",
      "                                                                 \n",
      " dropout_4 (Dropout)         (None, 512)               0         \n",
      "                                                                 \n",
      " dense_3 (Dense)             (None, 1)                 513       \n",
      "                                                                 \n",
      "=================================================================\n",
      "Total params: 12,942,273\n",
      "Trainable params: 12,940,801\n",
      "Non-trainable params: 1,472\n",
      "_________________________________________________________________\n"
     ]
    }
   ],
   "source": [
    "model = Sequential()\n",
    "model.add(Conv2D(32, (3, 3), input_shape=(128,128,3)))\n",
    "model.add(Activation('relu'))\n",
    "model.add(BatchNormalization())\n",
    "model.add(MaxPooling2D(pool_size=(2,2)))\n",
    "model.add(Dropout(0.25))\n",
    "model.add(Conv2D(64,(3,3),activation='relu'))\n",
    "model.add(BatchNormalization())\n",
    "model.add(MaxPooling2D(pool_size=(2,2)))\n",
    "model.add(Dropout(0.25))\n",
    "model.add(Conv2D(128,(3,3),activation='relu'))\n",
    "model.add(BatchNormalization())\n",
    "model.add(MaxPooling2D(pool_size=(2,2)))\n",
    "model.add(Dropout(0.25))\n",
    "model.add(Flatten())\n",
    "model.add(Dense(512,activation='relu'))\n",
    "model.add(BatchNormalization())\n",
    "model.add(Dropout(0.5))\n",
    "model.add(Dense(1, activation='sigmoid'))\n",
    "model.summary()"
   ]
  },
  {
   "cell_type": "code",
   "execution_count": 12,
   "id": "3536ee76",
   "metadata": {},
   "outputs": [],
   "source": [
    "from keras.callbacks import EarlyStopping, ReduceLROnPlateau\n",
    "earlystop = EarlyStopping(patience = 10,monitor=\"val_accuracy\",)\n",
    "learning_rate_reduction = ReduceLROnPlateau(monitor = 'val_accuracy',patience = 2,verbose = 1,factor = 0.5,min_lr = 0.00001)\n",
    "callbacks = [earlystop,learning_rate_reduction]"
   ]
  },
  {
   "cell_type": "code",
   "execution_count": 13,
   "id": "dd22b76f",
   "metadata": {},
   "outputs": [],
   "source": [
    "model.compile(optimizer='adam',loss='binary_crossentropy',metrics=['accuracy'])"
   ]
  },
  {
   "cell_type": "code",
   "execution_count": 14,
   "id": "56d25419",
   "metadata": {},
   "outputs": [
    {
     "name": "stdout",
     "output_type": "stream",
     "text": [
      "Epoch 1/10\n",
      "250/250 [==============================] - 356s 1s/step - loss: 0.8356 - accuracy: 0.5784 - val_loss: 1.6039 - val_accuracy: 0.4995 - lr: 0.0010\n",
      "Epoch 2/10\n",
      "250/250 [==============================] - 431s 2s/step - loss: 0.6845 - accuracy: 0.6226 - val_loss: 0.6885 - val_accuracy: 0.6080 - lr: 0.0010\n",
      "Epoch 3/10\n",
      "250/250 [==============================] - 404s 2s/step - loss: 0.6414 - accuracy: 0.6406 - val_loss: 0.6006 - val_accuracy: 0.6685 - lr: 0.0010\n",
      "Epoch 4/10\n",
      "250/250 [==============================] - 424s 2s/step - loss: 0.6254 - accuracy: 0.6528 - val_loss: 0.5735 - val_accuracy: 0.7105 - lr: 0.0010\n",
      "Epoch 5/10\n",
      "250/250 [==============================] - 429s 2s/step - loss: 0.6019 - accuracy: 0.6739 - val_loss: 0.5603 - val_accuracy: 0.7065 - lr: 0.0010\n",
      "Epoch 6/10\n",
      "250/250 [==============================] - 415s 2s/step - loss: 0.5769 - accuracy: 0.6965 - val_loss: 0.4963 - val_accuracy: 0.7485 - lr: 0.0010\n",
      "Epoch 7/10\n",
      "250/250 [==============================] - 412s 2s/step - loss: 0.5677 - accuracy: 0.7029 - val_loss: 0.6802 - val_accuracy: 0.6285 - lr: 0.0010\n",
      "Epoch 8/10\n",
      "250/250 [==============================] - ETA: 0s - loss: 0.5492 - accuracy: 0.7174\n",
      "Epoch 8: ReduceLROnPlateau reducing learning rate to 0.0005000000237487257.\n",
      "250/250 [==============================] - 413s 2s/step - loss: 0.5492 - accuracy: 0.7174 - val_loss: 0.5525 - val_accuracy: 0.7255 - lr: 0.0010\n",
      "Epoch 9/10\n",
      "250/250 [==============================] - 411s 2s/step - loss: 0.5260 - accuracy: 0.7383 - val_loss: 0.5405 - val_accuracy: 0.7530 - lr: 5.0000e-04\n",
      "Epoch 10/10\n",
      "250/250 [==============================] - 415s 2s/step - loss: 0.5160 - accuracy: 0.7395 - val_loss: 1.0877 - val_accuracy: 0.6630 - lr: 5.0000e-04\n"
     ]
    }
   ],
   "source": [
    "model_history=model.fit(train_set,validation_data=validation_set,epochs=10,callbacks=callbacks)"
   ]
  },
  {
   "cell_type": "code",
   "execution_count": 15,
   "id": "866e3b74",
   "metadata": {},
   "outputs": [],
   "source": [
    "model.save(\"adam1.h5\")"
   ]
  },
  {
   "cell_type": "code",
   "execution_count": 10,
   "id": "26cfd12c",
   "metadata": {},
   "outputs": [
    {
     "name": "stdout",
     "output_type": "stream",
     "text": [
      "67/67 [==============================] - 40s 577ms/step - loss: 1.0877 - accuracy: 0.6630\n"
     ]
    },
    {
     "data": {
      "text/plain": [
       "[1.0877103805541992, 0.6629999876022339]"
      ]
     },
     "execution_count": 10,
     "metadata": {},
     "output_type": "execute_result"
    }
   ],
   "source": [
    "model = keras.models.load_model('adam1.h5')\n",
    "model.evaluate_generator(validation_set,verbose=1)"
   ]
  },
  {
   "cell_type": "code",
   "execution_count": 22,
   "id": "a64dcb68",
   "metadata": {
    "collapsed": true
   },
   "outputs": [
    {
     "name": "stdout",
     "output_type": "stream",
     "text": [
      "Model: \"sequential_3\"\n",
      "_________________________________________________________________\n",
      " Layer (type)                Output Shape              Param #   \n",
      "=================================================================\n",
      " conv2d_9 (Conv2D)           (None, 126, 126, 32)      896       \n",
      "                                                                 \n",
      " activation_5 (Activation)   (None, 126, 126, 32)      0         \n",
      "                                                                 \n",
      " max_pooling2d_9 (MaxPooling  (None, 63, 63, 32)       0         \n",
      " 2D)                                                             \n",
      "                                                                 \n",
      " conv2d_10 (Conv2D)          (None, 61, 61, 32)        9248      \n",
      "                                                                 \n",
      " activation_6 (Activation)   (None, 61, 61, 32)        0         \n",
      "                                                                 \n",
      " dropout_8 (Dropout)         (None, 61, 61, 32)        0         \n",
      "                                                                 \n",
      " max_pooling2d_10 (MaxPoolin  (None, 30, 30, 32)       0         \n",
      " g2D)                                                            \n",
      "                                                                 \n",
      " conv2d_11 (Conv2D)          (None, 28, 28, 64)        18496     \n",
      "                                                                 \n",
      " activation_7 (Activation)   (None, 28, 28, 64)        0         \n",
      "                                                                 \n",
      " dropout_9 (Dropout)         (None, 28, 28, 64)        0         \n",
      "                                                                 \n",
      " max_pooling2d_11 (MaxPoolin  (None, 14, 14, 64)       0         \n",
      " g2D)                                                            \n",
      "                                                                 \n",
      " flatten_3 (Flatten)         (None, 12544)             0         \n",
      "                                                                 \n",
      " dense_6 (Dense)             (None, 64)                802880    \n",
      "                                                                 \n",
      " dropout_10 (Dropout)        (None, 64)                0         \n",
      "                                                                 \n",
      " dense_7 (Dense)             (None, 1)                 65        \n",
      "                                                                 \n",
      "=================================================================\n",
      "Total params: 831,585\n",
      "Trainable params: 831,585\n",
      "Non-trainable params: 0\n",
      "_________________________________________________________________\n"
     ]
    }
   ],
   "source": [
    "model = Sequential()\n",
    "model.add(Conv2D(32, (3, 3), input_shape=(128,128,3)))\n",
    "model.add(Activation('relu'))\n",
    "model.add(MaxPooling2D(pool_size=(2, 2)))\n",
    "model.add(Conv2D(32, (3, 3)))\n",
    "model.add(Activation('relu'))\n",
    "model.add(Dropout(0.2))\n",
    "model.add(MaxPooling2D(pool_size=(2, 2)))\n",
    "model.add(Conv2D(64, (3, 3)))\n",
    "model.add(Activation('relu'))\n",
    "model.add(Dropout(0.5))\n",
    "model.add(MaxPooling2D(pool_size=(2, 2)))\n",
    "model.add(Flatten())\n",
    "model.add(Dense(64,activation='relu'))\n",
    "model.add(Dropout(0.5))\n",
    "model.add(Dense(1, activation='sigmoid'))\n",
    "model.summary()"
   ]
  },
  {
   "cell_type": "code",
   "execution_count": 23,
   "id": "31a0e0b3",
   "metadata": {},
   "outputs": [
    {
     "name": "stdout",
     "output_type": "stream",
     "text": [
      "Epoch 1/10\n",
      "250/250 [==============================] - 144s 574ms/step - loss: 0.6951 - accuracy: 0.5073 - val_loss: 0.6915 - val_accuracy: 0.5680 - lr: 0.0100\n",
      "Epoch 2/10\n",
      "250/250 [==============================] - 157s 627ms/step - loss: 0.6911 - accuracy: 0.5286 - val_loss: 0.6898 - val_accuracy: 0.5495 - lr: 0.0100\n",
      "Epoch 3/10\n",
      "250/250 [==============================] - 150s 598ms/step - loss: 0.6882 - accuracy: 0.5356 - val_loss: 0.6881 - val_accuracy: 0.5890 - lr: 0.0100\n",
      "Epoch 4/10\n",
      "250/250 [==============================] - 151s 606ms/step - loss: 0.6855 - accuracy: 0.5487 - val_loss: 0.6857 - val_accuracy: 0.5865 - lr: 0.0100\n",
      "Epoch 5/10\n",
      "250/250 [==============================] - ETA: 0s - loss: 0.6823 - accuracy: 0.5625\n",
      "Epoch 5: ReduceLROnPlateau reducing learning rate to 0.004999999888241291.\n",
      "250/250 [==============================] - 151s 604ms/step - loss: 0.6823 - accuracy: 0.5625 - val_loss: 0.6832 - val_accuracy: 0.5805 - lr: 0.0100\n",
      "Epoch 6/10\n",
      "250/250 [==============================] - 156s 623ms/step - loss: 0.6753 - accuracy: 0.5740 - val_loss: 0.6778 - val_accuracy: 0.6200 - lr: 0.0050\n",
      "Epoch 7/10\n",
      "250/250 [==============================] - 153s 610ms/step - loss: 0.6758 - accuracy: 0.5775 - val_loss: 0.6740 - val_accuracy: 0.6225 - lr: 0.0050\n",
      "Epoch 8/10\n",
      "250/250 [==============================] - 156s 624ms/step - loss: 0.6733 - accuracy: 0.5825 - val_loss: 0.6755 - val_accuracy: 0.5860 - lr: 0.0050\n",
      "Epoch 9/10\n",
      "250/250 [==============================] - ETA: 0s - loss: 0.6717 - accuracy: 0.5830\n",
      "Epoch 9: ReduceLROnPlateau reducing learning rate to 0.0024999999441206455.\n",
      "250/250 [==============================] - 166s 662ms/step - loss: 0.6717 - accuracy: 0.5830 - val_loss: 0.6732 - val_accuracy: 0.6150 - lr: 0.0050\n",
      "Epoch 10/10\n",
      "250/250 [==============================] - 156s 625ms/step - loss: 0.6652 - accuracy: 0.5994 - val_loss: 0.6688 - val_accuracy: 0.6180 - lr: 0.0025\n"
     ]
    }
   ],
   "source": [
    "model.compile(optimizer='sgd',loss='binary_crossentropy',metrics=['accuracy'])\n",
    "model_history=model.fit(train_set,validation_data=validation_set,epochs=10,callbacks=callbacks)"
   ]
  },
  {
   "cell_type": "code",
   "execution_count": 24,
   "id": "102f2e51",
   "metadata": {},
   "outputs": [],
   "source": [
    "model.save(\"SGD1.h5\")"
   ]
  },
  {
   "cell_type": "code",
   "execution_count": 11,
   "id": "34fe2496",
   "metadata": {},
   "outputs": [
    {
     "name": "stdout",
     "output_type": "stream",
     "text": [
      "67/67 [==============================] - 25s 358ms/step - loss: 0.6688 - accuracy: 0.6180\n"
     ]
    },
    {
     "data": {
      "text/plain": [
       "[0.6688320636749268, 0.6179999709129333]"
      ]
     },
     "execution_count": 11,
     "metadata": {},
     "output_type": "execute_result"
    }
   ],
   "source": [
    "model = keras.models.load_model('SGD1.h5')\n",
    "model.evaluate_generator(validation_set,verbose=1)"
   ]
  },
  {
   "cell_type": "code",
   "execution_count": 25,
   "id": "d982e479",
   "metadata": {
    "collapsed": true
   },
   "outputs": [
    {
     "name": "stdout",
     "output_type": "stream",
     "text": [
      "Model: \"sequential_4\"\n",
      "_________________________________________________________________\n",
      " Layer (type)                Output Shape              Param #   \n",
      "=================================================================\n",
      " conv2d_12 (Conv2D)          (None, 126, 126, 32)      896       \n",
      "                                                                 \n",
      " activation_8 (Activation)   (None, 126, 126, 32)      0         \n",
      "                                                                 \n",
      " max_pooling2d_12 (MaxPoolin  (None, 63, 63, 32)       0         \n",
      " g2D)                                                            \n",
      "                                                                 \n",
      " conv2d_13 (Conv2D)          (None, 61, 61, 32)        9248      \n",
      "                                                                 \n",
      " activation_9 (Activation)   (None, 61, 61, 32)        0         \n",
      "                                                                 \n",
      " dropout_11 (Dropout)        (None, 61, 61, 32)        0         \n",
      "                                                                 \n",
      " max_pooling2d_13 (MaxPoolin  (None, 30, 30, 32)       0         \n",
      " g2D)                                                            \n",
      "                                                                 \n",
      " conv2d_14 (Conv2D)          (None, 28, 28, 64)        18496     \n",
      "                                                                 \n",
      " activation_10 (Activation)  (None, 28, 28, 64)        0         \n",
      "                                                                 \n",
      " dropout_12 (Dropout)        (None, 28, 28, 64)        0         \n",
      "                                                                 \n",
      " max_pooling2d_14 (MaxPoolin  (None, 14, 14, 64)       0         \n",
      " g2D)                                                            \n",
      "                                                                 \n",
      " flatten_4 (Flatten)         (None, 12544)             0         \n",
      "                                                                 \n",
      " dense_8 (Dense)             (None, 64)                802880    \n",
      "                                                                 \n",
      " dropout_13 (Dropout)        (None, 64)                0         \n",
      "                                                                 \n",
      " dense_9 (Dense)             (None, 1)                 65        \n",
      "                                                                 \n",
      "=================================================================\n",
      "Total params: 831,585\n",
      "Trainable params: 831,585\n",
      "Non-trainable params: 0\n",
      "_________________________________________________________________\n"
     ]
    }
   ],
   "source": [
    "model = Sequential()\n",
    "model.add(Conv2D(32, (3, 3), input_shape=(128,128,3)))\n",
    "model.add(Activation('relu'))\n",
    "model.add(MaxPooling2D(pool_size=(2, 2)))\n",
    "model.add(Conv2D(32, (3, 3)))\n",
    "model.add(Activation('relu'))\n",
    "model.add(Dropout(0.2))\n",
    "model.add(MaxPooling2D(pool_size=(2, 2)))\n",
    "model.add(Conv2D(64, (3, 3)))\n",
    "model.add(Activation('relu'))\n",
    "model.add(Dropout(0.5))\n",
    "model.add(MaxPooling2D(pool_size=(2, 2)))\n",
    "model.add(Flatten())\n",
    "model.add(Dense(64,activation='relu'))\n",
    "model.add(Dropout(0.5))\n",
    "model.add(Dense(1, activation='sigmoid'))\n",
    "model.summary()"
   ]
  },
  {
   "cell_type": "code",
   "execution_count": 26,
   "id": "8b639ac5",
   "metadata": {},
   "outputs": [
    {
     "name": "stdout",
     "output_type": "stream",
     "text": [
      "Epoch 1/10\n",
      "250/250 [==============================] - 154s 612ms/step - loss: 0.6918 - accuracy: 0.5239 - val_loss: 0.6901 - val_accuracy: 0.5600 - lr: 0.0010\n",
      "Epoch 2/10\n",
      "250/250 [==============================] - 147s 588ms/step - loss: 0.6910 - accuracy: 0.5285 - val_loss: 0.6891 - val_accuracy: 0.5875 - lr: 0.0010\n",
      "Epoch 3/10\n",
      "250/250 [==============================] - 146s 586ms/step - loss: 0.6887 - accuracy: 0.5361 - val_loss: 0.6883 - val_accuracy: 0.5340 - lr: 0.0010\n",
      "Epoch 4/10\n",
      "250/250 [==============================] - ETA: 0s - loss: 0.6878 - accuracy: 0.5426\n",
      "Epoch 4: ReduceLROnPlateau reducing learning rate to 0.0005000000237487257.\n",
      "250/250 [==============================] - 146s 584ms/step - loss: 0.6878 - accuracy: 0.5426 - val_loss: 0.6864 - val_accuracy: 0.5805 - lr: 0.0010\n",
      "Epoch 5/10\n",
      "250/250 [==============================] - 146s 585ms/step - loss: 0.6855 - accuracy: 0.5518 - val_loss: 0.6850 - val_accuracy: 0.5850 - lr: 5.0000e-04\n"
     ]
    }
   ],
   "source": [
    "model.compile(optimizer='adagrad',loss='binary_crossentropy',metrics=['accuracy'])\n",
    "model_history=model.fit(train_set,validation_data=validation_set,epochs=10,callbacks=callbacks)"
   ]
  },
  {
   "cell_type": "code",
   "execution_count": 27,
   "id": "6770e539",
   "metadata": {},
   "outputs": [],
   "source": [
    "model.save(\"adagrad.h5\")"
   ]
  },
  {
   "cell_type": "code",
   "execution_count": 12,
   "id": "6e3340fb",
   "metadata": {},
   "outputs": [
    {
     "name": "stdout",
     "output_type": "stream",
     "text": [
      "67/67 [==============================] - 24s 338ms/step - loss: 0.6850 - accuracy: 0.5850\n"
     ]
    },
    {
     "data": {
      "text/plain": [
       "[0.6850141286849976, 0.5849999785423279]"
      ]
     },
     "execution_count": 12,
     "metadata": {},
     "output_type": "execute_result"
    }
   ],
   "source": [
    "model = keras.models.load_model('adagrad.h5')\n",
    "model.evaluate_generator(validation_set,verbose=1)"
   ]
  },
  {
   "cell_type": "code",
   "execution_count": 28,
   "id": "4a823a22",
   "metadata": {
    "collapsed": true
   },
   "outputs": [
    {
     "name": "stdout",
     "output_type": "stream",
     "text": [
      "Model: \"sequential_5\"\n",
      "_________________________________________________________________\n",
      " Layer (type)                Output Shape              Param #   \n",
      "=================================================================\n",
      " conv2d_15 (Conv2D)          (None, 126, 126, 32)      896       \n",
      "                                                                 \n",
      " activation_11 (Activation)  (None, 126, 126, 32)      0         \n",
      "                                                                 \n",
      " max_pooling2d_15 (MaxPoolin  (None, 63, 63, 32)       0         \n",
      " g2D)                                                            \n",
      "                                                                 \n",
      " conv2d_16 (Conv2D)          (None, 61, 61, 32)        9248      \n",
      "                                                                 \n",
      " activation_12 (Activation)  (None, 61, 61, 32)        0         \n",
      "                                                                 \n",
      " dropout_14 (Dropout)        (None, 61, 61, 32)        0         \n",
      "                                                                 \n",
      " max_pooling2d_16 (MaxPoolin  (None, 30, 30, 32)       0         \n",
      " g2D)                                                            \n",
      "                                                                 \n",
      " conv2d_17 (Conv2D)          (None, 28, 28, 64)        18496     \n",
      "                                                                 \n",
      " activation_13 (Activation)  (None, 28, 28, 64)        0         \n",
      "                                                                 \n",
      " dropout_15 (Dropout)        (None, 28, 28, 64)        0         \n",
      "                                                                 \n",
      " max_pooling2d_17 (MaxPoolin  (None, 14, 14, 64)       0         \n",
      " g2D)                                                            \n",
      "                                                                 \n",
      " flatten_5 (Flatten)         (None, 12544)             0         \n",
      "                                                                 \n",
      " dense_10 (Dense)            (None, 64)                802880    \n",
      "                                                                 \n",
      " dropout_16 (Dropout)        (None, 64)                0         \n",
      "                                                                 \n",
      " dense_11 (Dense)            (None, 1)                 65        \n",
      "                                                                 \n",
      "=================================================================\n",
      "Total params: 831,585\n",
      "Trainable params: 831,585\n",
      "Non-trainable params: 0\n",
      "_________________________________________________________________\n"
     ]
    }
   ],
   "source": [
    "model = Sequential()\n",
    "model.add(Conv2D(32, (3, 3), input_shape=(128,128,3)))\n",
    "model.add(Activation('relu'))\n",
    "model.add(MaxPooling2D(pool_size=(2, 2)))\n",
    "model.add(Conv2D(32, (3, 3)))\n",
    "model.add(Activation('relu'))\n",
    "model.add(Dropout(0.2))\n",
    "model.add(MaxPooling2D(pool_size=(2, 2)))\n",
    "model.add(Conv2D(64, (3, 3)))\n",
    "model.add(Activation('relu'))\n",
    "model.add(Dropout(0.5))\n",
    "model.add(MaxPooling2D(pool_size=(2, 2)))\n",
    "model.add(Flatten())\n",
    "model.add(Dense(64,activation='relu'))\n",
    "model.add(Dropout(0.5))\n",
    "model.add(Dense(1, activation='sigmoid'))\n",
    "model.summary()"
   ]
  },
  {
   "cell_type": "code",
   "execution_count": 29,
   "id": "a29548ad",
   "metadata": {},
   "outputs": [],
   "source": [
    "nadam = tf.keras.optimizers.Nadam(\n",
    "    learning_rate=0.001,\n",
    "    beta_1=0.9,\n",
    "    beta_2=0.999,\n",
    "    epsilon=1e-07,\n",
    "    name='Nadam')"
   ]
  },
  {
   "cell_type": "code",
   "execution_count": 30,
   "id": "feb41296",
   "metadata": {},
   "outputs": [
    {
     "name": "stdout",
     "output_type": "stream",
     "text": [
      "Epoch 1/10\n",
      "250/250 [==============================] - 151s 594ms/step - loss: 0.7056 - accuracy: 0.5322 - val_loss: 0.6875 - val_accuracy: 0.5700 - lr: 0.0010\n",
      "Epoch 2/10\n",
      "250/250 [==============================] - 147s 588ms/step - loss: 0.6812 - accuracy: 0.5690 - val_loss: 0.6762 - val_accuracy: 0.5505 - lr: 0.0010\n",
      "Epoch 3/10\n",
      "250/250 [==============================] - 147s 587ms/step - loss: 0.6542 - accuracy: 0.6177 - val_loss: 0.6396 - val_accuracy: 0.6515 - lr: 0.0010\n",
      "Epoch 4/10\n",
      "250/250 [==============================] - 148s 589ms/step - loss: 0.6334 - accuracy: 0.6486 - val_loss: 0.6107 - val_accuracy: 0.7100 - lr: 0.0010\n",
      "Epoch 5/10\n",
      "250/250 [==============================] - 146s 585ms/step - loss: 0.6126 - accuracy: 0.6691 - val_loss: 0.5763 - val_accuracy: 0.7225 - lr: 0.0010\n",
      "Epoch 6/10\n",
      "250/250 [==============================] - 147s 588ms/step - loss: 0.5916 - accuracy: 0.6871 - val_loss: 0.5501 - val_accuracy: 0.7320 - lr: 0.0010\n",
      "Epoch 7/10\n",
      "250/250 [==============================] - 147s 590ms/step - loss: 0.5828 - accuracy: 0.7028 - val_loss: 0.5458 - val_accuracy: 0.7360 - lr: 0.0010\n",
      "Epoch 8/10\n",
      "250/250 [==============================] - 147s 589ms/step - loss: 0.5689 - accuracy: 0.7091 - val_loss: 0.5298 - val_accuracy: 0.7535 - lr: 0.0010\n",
      "Epoch 9/10\n",
      "250/250 [==============================] - 147s 587ms/step - loss: 0.5586 - accuracy: 0.7168 - val_loss: 0.5267 - val_accuracy: 0.7575 - lr: 0.0010\n",
      "Epoch 10/10\n",
      "250/250 [==============================] - 147s 586ms/step - loss: 0.5479 - accuracy: 0.7216 - val_loss: 0.5133 - val_accuracy: 0.7695 - lr: 0.0010\n"
     ]
    }
   ],
   "source": [
    "model.compile(optimizer='nadam',loss='binary_crossentropy',metrics=['accuracy'])\n",
    "model_history=model.fit(train_set,validation_data=validation_set,epochs=10,callbacks=callbacks)"
   ]
  },
  {
   "cell_type": "code",
   "execution_count": 31,
   "id": "fb71e3da",
   "metadata": {},
   "outputs": [],
   "source": [
    "model.save(\"nadam.h5\")"
   ]
  },
  {
   "cell_type": "code",
   "execution_count": 13,
   "id": "b91a0f98",
   "metadata": {},
   "outputs": [
    {
     "name": "stdout",
     "output_type": "stream",
     "text": [
      "67/67 [==============================] - 24s 336ms/step - loss: 0.5133 - accuracy: 0.7695\n"
     ]
    },
    {
     "data": {
      "text/plain": [
       "[0.5133180022239685, 0.7695000171661377]"
      ]
     },
     "execution_count": 13,
     "metadata": {},
     "output_type": "execute_result"
    }
   ],
   "source": [
    "model = keras.models.load_model('nadam.h5')\n",
    "model.evaluate_generator(validation_set,verbose=1)"
   ]
  },
  {
   "cell_type": "code",
   "execution_count": 17,
   "id": "33671b4b",
   "metadata": {},
   "outputs": [
    {
     "name": "stdout",
     "output_type": "stream",
     "text": [
      "Model Loss and Accuracy\n",
      "Adam Optimizer\n",
      "67/67 [==============================] - 13s 189ms/step - loss: 1.0877 - accuracy: 0.6630\n"
     ]
    },
    {
     "data": {
      "text/plain": [
       "[1.0877103805541992, 0.6629999876022339]"
      ]
     },
     "execution_count": 17,
     "metadata": {},
     "output_type": "execute_result"
    }
   ],
   "source": [
    "print(\"Model Loss and Accuracy\")\n",
    "print(\"Adam Optimizer\")\n",
    "adam = keras.models.load_model('adam1.h5')\n",
    "adam.evaluate_generator(validation_set,verbose=1)\n"
   ]
  },
  {
   "cell_type": "code",
   "execution_count": 18,
   "id": "8ec872e7",
   "metadata": {},
   "outputs": [
    {
     "name": "stdout",
     "output_type": "stream",
     "text": [
      "*************************************************************************************\n",
      "RMSProp Optimizer\n",
      "67/67 [==============================] - 9s 135ms/step - loss: 0.4286 - accuracy: 0.8115\n"
     ]
    },
    {
     "data": {
      "text/plain": [
       "[0.4286121428012848, 0.8115000128746033]"
      ]
     },
     "execution_count": 18,
     "metadata": {},
     "output_type": "execute_result"
    }
   ],
   "source": [
    "print(\"*************************************************************************************\")\n",
    "print(\"RMSProp Optimizer\")\n",
    "rms = keras.models.load_model('dog-cat-model2.h5')\n",
    "rms.evaluate_generator(validation_set,verbose=1)\n"
   ]
  },
  {
   "cell_type": "code",
   "execution_count": 19,
   "id": "457f9ae4",
   "metadata": {},
   "outputs": [
    {
     "name": "stdout",
     "output_type": "stream",
     "text": [
      "*************************************************************************************\n",
      "SGD Optimizer\n",
      "67/67 [==============================] - 9s 130ms/step - loss: 0.6688 - accuracy: 0.6180\n"
     ]
    },
    {
     "data": {
      "text/plain": [
       "[0.6688320636749268, 0.6179999709129333]"
      ]
     },
     "execution_count": 19,
     "metadata": {},
     "output_type": "execute_result"
    }
   ],
   "source": [
    "print(\"*************************************************************************************\")\n",
    "print(\"SGD Optimizer\")\n",
    "sgd = keras.models.load_model('SGD1.h5')\n",
    "sgd.evaluate_generator(validation_set,verbose=1)\n"
   ]
  },
  {
   "cell_type": "code",
   "execution_count": 20,
   "id": "2c9853fd",
   "metadata": {},
   "outputs": [
    {
     "name": "stdout",
     "output_type": "stream",
     "text": [
      "Adagrad Optimizer\n",
      "67/67 [==============================] - 10s 143ms/step - loss: 0.6850 - accuracy: 0.5850\n"
     ]
    },
    {
     "data": {
      "text/plain": [
       "[0.6850138902664185, 0.5849999785423279]"
      ]
     },
     "execution_count": 20,
     "metadata": {},
     "output_type": "execute_result"
    }
   ],
   "source": [
    "print(\"Adagrad Optimizer\")\n",
    "adagrad = keras.models.load_model('adagrad.h5')\n",
    "adagrad.evaluate_generator(validation_set,verbose=1)\n"
   ]
  },
  {
   "cell_type": "code",
   "execution_count": 21,
   "id": "f7cb4a73",
   "metadata": {},
   "outputs": [
    {
     "name": "stdout",
     "output_type": "stream",
     "text": [
      "Nadam Optimizer\n",
      "67/67 [==============================] - 9s 138ms/step - loss: 0.5133 - accuracy: 0.7695\n"
     ]
    },
    {
     "data": {
      "text/plain": [
       "[0.5133180618286133, 0.7695000171661377]"
      ]
     },
     "execution_count": 21,
     "metadata": {},
     "output_type": "execute_result"
    }
   ],
   "source": [
    "print(\"Nadam Optimizer\")\n",
    "nadam = keras.models.load_model('nadam.h5')\n",
    "nadam.evaluate_generator(validation_set,verbose=1)"
   ]
  },
  {
   "cell_type": "code",
   "execution_count": null,
   "id": "1e37082e",
   "metadata": {},
   "outputs": [],
   "source": []
  }
 ],
 "metadata": {
  "kernelspec": {
   "display_name": "Python 3 (ipykernel)",
   "language": "python",
   "name": "python3"
  },
  "language_info": {
   "codemirror_mode": {
    "name": "ipython",
    "version": 3
   },
   "file_extension": ".py",
   "mimetype": "text/x-python",
   "name": "python",
   "nbconvert_exporter": "python",
   "pygments_lexer": "ipython3",
   "version": "3.9.12"
  }
 },
 "nbformat": 4,
 "nbformat_minor": 5
}

{
 "cells": [
  {
   "cell_type": "markdown",
   "metadata": {
    "id": "xyQdbj0Un6Ms"
   },
   "source": [
    "<center><h1><font style=\"color:red;\">ASSIGNMENT </font></h1><br></center>\n",
    "<h3>\n",
    "\n",
    "* Name : Achal Rajesh Mate\n",
    "* Roll No : 2203541\n",
    "* Enroll No : MITU20BTCSD001\n",
    "* Branch : CSE\n",
    "* Class : TY CSE Is - 3\n",
    "* Guided By : Prof Nagesh Jadhav Sir"
   ]
  },
  {
   "cell_type": "markdown",
   "metadata": {
    "id": "xTLyyOmBn6Mx"
   },
   "source": [
    "<h3><font style=\"color:red;\">Title:- </font>\n",
    "   Perform basic image processing using opencv\n",
    "</h3>"
   ]
  },
  {
   "cell_type": "markdown",
   "metadata": {
    "id": "aBMzGaHsn6Mx"
   },
   "source": [
    "<h3><font style=\"color:red;\">Objectives:- </font> <br>\n",
    "1. To learn about images processing<br>\n",
    "2. To perform various operations on images\n",
    " </h3>"
   ]
  },
  {
   "cell_type": "markdown",
   "metadata": {
    "id": "2UxSGgMen6My"
   },
   "source": [
    "#### OpenCV\n",
    "* OpenCV (Open Source Computer Vision Library) is a library of programming functions mainly aimed at real-time computer vision.\n",
    "* Originally developed by Intel, it was later supported by Willow Garage then Itseez (which was later acquired by Intel). \n",
    "* The library is cross-platform and free for use under the open-source BSD license.\n",
    "* OpenCV supports some models from deep learning frameworks like TensorFlow, Torch, PyTorch (after converting to an ONNX model) and Caffe according to a defined list of supported layers.\n",
    "* It promotes OpenVisionCapsules, which is a portable format, compatible with all other formats.\n",
    "\n",
    "#### Image processing operations\n",
    "* Digital image processing is the use of a digital computer to process digital images through an algorithm.\n",
    "* As a subcategory or field of digital signal processing, digital image processing has many advantages over analog image processing. \n",
    "* It allows a much wider range of algorithms to be applied to the input data and can avoid problems such as the build-up of noise and distortion during processing. \n",
    "* Since images are defined over two dimensions (perhaps more) digital image processing may be modeled in the form of multidimensional systems. \n",
    "* The generation and development of digital image processing are mainly affected by three factors: first, the development of computers; second, the development of mathematics (especially the creation and improvement of discrete mathematics theory); third, the demand for a wide range of applications in environment, agriculture, military, industry and medical science has increased.\n",
    "* Digital image processing allows the use of much more complex algorithms, and hence, can offer both more sophisticated performance at simple tasks, and the implementation of methods which would be impossible by analogue means. \n",
    "* In particular, digital image processing is a concrete application of, and a practical technology based on:\n",
    "    \n",
    "    * Classification\n",
    "    * Feature extraction\n",
    "    * Multi-scale signal analysis\n",
    "    * Pattern recognition\n",
    "    * Projection\n",
    "* Some techniques which are used in digital image processing include:\n",
    "    * Anisotropic diffusion\n",
    "    * Hidden Markov models\n",
    "    * Image editing\n",
    "    * Image restoration\n",
    "    * Independent component analysis\n",
    "    * Linear filtering\n",
    "    * Neural networks\n",
    "    * Partial differential equations\n",
    "    * Pixelation\n",
    "    * Point feature matching\n",
    "    * Principal components analysis\n",
    "    * Self-organizing maps\n",
    "    * Wavelets"
   ]
  },
  {
   "cell_type": "markdown",
   "metadata": {
    "id": "okCZC8v-n6Mz"
   },
   "source": [
    "### Import All Necessary libray"
   ]
  },
  {
   "cell_type": "code",
   "execution_count": null,
   "metadata": {
    "id": "y6bfIx49r2WQ"
   },
   "outputs": [],
   "source": [
    "import cv2 as cv\n",
    "import numpy as np\n",
    "from google.colab.patches import cv2_imshow"
   ]
  },
  {
   "cell_type": "markdown",
   "metadata": {
    "id": "xm4k9bjLn6M1"
   },
   "source": [
    "### Read The Image"
   ]
  },
  {
   "cell_type": "code",
   "execution_count": null,
   "metadata": {
    "id": "J3ItcytGr2WY"
   },
   "outputs": [],
   "source": [
    "image=cv.imread(\"download.jfif\")\n",
    "# gray = cv.cvtColor(image, cv.COLOR_BGR2GRAY)"
   ]
  },
  {
   "cell_type": "markdown",
   "metadata": {
    "id": "bKzixcEon6M2"
   },
   "source": [
    "### Display the image"
   ]
  },
  {
   "cell_type": "code",
   "execution_count": null,
   "metadata": {
    "colab": {
     "base_uri": "https://localhost:8080/",
     "height": 228
    },
    "id": "Im6DJhiur2Wa",
    "outputId": "b353709d-f2f6-4ee0-bd55-551acc1711d0"
   },
   "outputs": [],
   "source": [
    "cv2_imshow(image)\n",
    "cv.waitKey(0)"
   ]
  },
  {
   "cell_type": "markdown",
   "metadata": {
    "id": "me-qdU2Yn6M4"
   },
   "source": [
    "### View Dimension of Image"
   ]
  },
  {
   "cell_type": "code",
   "execution_count": null,
   "metadata": {
    "colab": {
     "base_uri": "https://localhost:8080/"
    },
    "id": "0afbf3bnr2Wb",
    "outputId": "53a34c86-9a5d-4c4b-f82e-95b4c64dec51"
   },
   "outputs": [],
   "source": [
    "image.shape"
   ]
  },
  {
   "cell_type": "code",
   "execution_count": null,
   "metadata": {
    "id": "SsMKRrUnr2Wc"
   },
   "outputs": [],
   "source": [
    "corner=image[0:100,0:100]"
   ]
  },
  {
   "cell_type": "code",
   "execution_count": null,
   "metadata": {
    "colab": {
     "base_uri": "https://localhost:8080/",
     "height": 134
    },
    "id": "MP6KS1oxr2Wd",
    "outputId": "cbc2e62e-5e09-4423-d369-f993fd56469a"
   },
   "outputs": [],
   "source": [
    "cv2_imshow(corner)\n",
    "cv.waitKey(0)"
   ]
  },
  {
   "cell_type": "markdown",
   "metadata": {
    "id": "0wseak3RRh-i"
   },
   "source": [
    "Drawing a stright **line**"
   ]
  },
  {
   "cell_type": "code",
   "execution_count": null,
   "metadata": {
    "colab": {
     "base_uri": "https://localhost:8080/",
     "height": 334
    },
    "id": "YKr9xASEr2We",
    "outputId": "e2451444-5360-4edf-abc7-6ededf2a7977"
   },
   "outputs": [],
   "source": [
    "canvas = np.zeros((300, 300, 3), dtype = \"uint8\")\n",
    "#RGB(255,255,255)\n",
    "green = (0, 255, 0)\n",
    "cv.line(canvas, (0, 0), (300, 300), green,4)\n",
    "cv2_imshow(canvas)\n",
    "cv.waitKey(0)"
   ]
  },
  {
   "cell_type": "code",
   "execution_count": null,
   "metadata": {
    "colab": {
     "base_uri": "https://localhost:8080/",
     "height": 334
    },
    "id": "5Z5cQwiir2Wg",
    "outputId": "9835e95f-50f7-41f3-9c2e-f59e8376877e"
   },
   "outputs": [],
   "source": [
    "red = (0, 0, 255)\n",
    "cv.line(canvas, (300, 0), (0, 300), red, 3)\n",
    "cv2_imshow(canvas)\n",
    "cv.waitKey(0)"
   ]
  },
  {
   "cell_type": "markdown",
   "metadata": {
    "id": "dDnLKQ0pr2Wh"
   },
   "source": [
    "# Image Processing"
   ]
  },
  {
   "cell_type": "code",
   "execution_count": null,
   "metadata": {
    "colab": {
     "base_uri": "https://localhost:8080/",
     "height": 263
    },
    "id": "iZ2VeVCgr2Wl",
    "outputId": "805409a2-e289-470c-feaf-8b0f529ef0fb"
   },
   "outputs": [],
   "source": [
    "# Image Translation\n",
    "#The first row of the matrix is [1, 0, tx], where tx is the number of pixels we will shift the image left or right. \n",
    "#Negative values of tx will shift the image to the left and positive values will shift the image to the right\n",
    "M = np.float32([[1, 0, 25], [0, 1, 50]])\n",
    "print(image.shape[0])\n",
    "print(image.shape[1])\n",
    "shifted = cv.warpAffine(image, M, (image.shape[1], image.shape[0]))\n",
    "cv2_imshow(shifted)\n",
    "cv.waitKey(0)"
   ]
  },
  {
   "cell_type": "markdown",
   "metadata": {
    "id": "cSeTGBJMn6M7"
   },
   "source": [
    "### Rotate the image"
   ]
  },
  {
   "cell_type": "code",
   "execution_count": null,
   "metadata": {
    "colab": {
     "base_uri": "https://localhost:8080/",
     "height": 440
    },
    "id": "jPwYcHE4r2Wm",
    "outputId": "eb47f013-5b78-48cd-88cb-c0d2009d8d39"
   },
   "outputs": [],
   "source": [
    "# Rotation\n",
    "cv2_imshow(image)\n",
    "(h, w) = image.shape[:2]\n",
    "#h=image.shape[0]\n",
    "#w=image.shape[1]\n",
    "\n",
    "center = (w // 2, h // 2)\n",
    "M = cv.getRotationMatrix2D(center, 45, 1.0)\n",
    "rotated = cv.warpAffine(image, M, (w, h))\n",
    "print(\"Rotated by 45 Degrees\")\n",
    "cv2_imshow(rotated)         \n",
    "cv.waitKey(0)                   "
   ]
  },
  {
   "cell_type": "markdown",
   "metadata": {
    "id": "D5I9AQzGn6M7"
   },
   "source": [
    "### Change Dimensions of Image"
   ]
  },
  {
   "cell_type": "code",
   "execution_count": null,
   "metadata": {
    "colab": {
     "base_uri": "https://localhost:8080/",
     "height": 375
    },
    "id": "YnefLRhjr2Wn",
    "outputId": "b6fb7f83-f390-49b7-f517-9ccb20f499d4"
   },
   "outputs": [],
   "source": [
    "cv2_imshow(image)\n",
    "print(image.shape)\n",
    "r = 150.0 / image.shape[1]\n",
    "dim = (150, int(image.shape[0] * r))\n",
    "resized = cv.resize(image, dim, interpolation = cv.INTER_AREA)\n",
    "print(resized.shape)\n",
    "cv2_imshow(resized)\n",
    "cv.waitKey(0)"
   ]
  },
  {
   "cell_type": "markdown",
   "metadata": {
    "id": "uLb4O6ten6M8"
   },
   "source": [
    "### Flip the image"
   ]
  },
  {
   "cell_type": "code",
   "execution_count": null,
   "metadata": {
    "colab": {
     "base_uri": "https://localhost:8080/",
     "height": 422
    },
    "id": "qOjoVJb6r2Wp",
    "outputId": "e371c7f3-b41f-42eb-cb53-06a4bf074b6f"
   },
   "outputs": [],
   "source": [
    "cv2_imshow(image)\n",
    "flipped = cv.flip(image, 0)\n",
    "cv2_imshow(flipped)\n",
    "cv.waitKey(0)"
   ]
  },
  {
   "cell_type": "markdown",
   "metadata": {
    "id": "Rj_C0AGkr2Wq"
   },
   "source": [
    "### Display grey Image"
   ]
  },
  {
   "cell_type": "code",
   "execution_count": null,
   "metadata": {
    "colab": {
     "base_uri": "https://localhost:8080/",
     "height": 228
    },
    "id": "qUYX_S8Ar2Wq",
    "outputId": "d8af47ac-afd8-4698-9dc0-84914c2ff1f7"
   },
   "outputs": [],
   "source": [
    "i_gray = cv.cvtColor(image, cv.COLOR_BGR2GRAY) #BGR to gray conversion\n",
    "cv2_imshow(i_gray)\n",
    "cv.waitKey(0)"
   ]
  },
  {
   "cell_type": "markdown",
   "metadata": {
    "id": "4JUD5YtYn6M9"
   },
   "source": [
    "### Display RBG image"
   ]
  },
  {
   "cell_type": "code",
   "execution_count": null,
   "metadata": {
    "colab": {
     "base_uri": "https://localhost:8080/",
     "height": 228
    },
    "id": "vd0KLMO9TuSB",
    "outputId": "2b287ac1-be40-499e-c00f-4ff207777112"
   },
   "outputs": [],
   "source": [
    "i_rgb = cv.cvtColor(image, cv.COLOR_BGR2RGB) #BGR to RGB (useful for matplotlib)\n",
    "cv2_imshow(i_rgb)\n",
    "cv.waitKey(0)"
   ]
  },
  {
   "cell_type": "markdown",
   "metadata": {
    "id": "TKvXXYwan6M9"
   },
   "source": [
    "### Display Normalize Image"
   ]
  },
  {
   "cell_type": "code",
   "execution_count": null,
   "metadata": {
    "colab": {
     "base_uri": "https://localhost:8080/",
     "height": 228
    },
    "id": "xGyqygaHUWkd",
    "outputId": "7a35795c-a99a-442d-e2d6-43a323a1326d"
   },
   "outputs": [],
   "source": [
    "i = cv.normalize(image, None, 0, 255, cv.NORM_MINMAX, cv.CV_8U) #Normalizes I between 0 and 255\n",
    "cv2_imshow(i)\n",
    "cv.waitKey(0)"
   ]
  },
  {
   "cell_type": "markdown",
   "metadata": {
    "id": "0KUgUc47VFDy"
   },
   "source": [
    "### Conclusion\n",
    "#### Thus I have Successfully learn about images processing and  perform various operations on images using OpenCV"
   ]
  },
  {
   "cell_type": "code",
   "execution_count": null,
   "metadata": {
    "id": "r1QBHynkn6M-"
   },
   "outputs": [],
   "source": []
  }
 ],
 "metadata": {
  "colab": {
   "collapsed_sections": [],
   "name": "Assignment_10_OpenCv.ipynb",
   "provenance": []
  },
  "kernelspec": {
   "display_name": "Python 3 (ipykernel)",
   "language": "python",
   "name": "python3"
  },
  "language_info": {
   "codemirror_mode": {
    "name": "ipython",
    "version": 3
   },
   "file_extension": ".py",
   "mimetype": "text/x-python",
   "name": "python",
   "nbconvert_exporter": "python",
   "pygments_lexer": "ipython3",
   "version": "3.9.12"
  }
 },
 "nbformat": 4,
 "nbformat_minor": 1
}

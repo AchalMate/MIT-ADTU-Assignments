{
 "cells": [
  {
   "cell_type": "markdown",
   "id": "aa9930a2",
   "metadata": {},
   "source": [
    "<center><h1><font style=\"color:red;\">ASSIGNMENT 1.B</font></h1><br></center>\n",
    "<h3>\n",
    "\n",
    "* Name : Achal Rajesh Mate\n",
    "* Roll No : 2203541\n",
    "* Enroll No : MITU20BTCSD001\n",
    "* Branch : CSE\n",
    "* Class : TY CSE Is - 3\n",
    "* Batch : B\n",
    "* Guided By : Prof Nagesh Jadhav Sir</h3>\n",
    "\n",
    "    "
   ]
  },
  {
   "cell_type": "markdown",
   "id": "f5963385",
   "metadata": {},
   "source": [
    "<h3><font style=\"color:red;\">Title:- </font>\n",
    "    B. Installation, Confguration and checking the current Version of numpy, scipy, scikit, pandas and matplot lib using anaconda prompt and list their uses in machine learning</h3>"
   ]
  },
  {
   "cell_type": "markdown",
   "id": "92f114f2",
   "metadata": {},
   "source": [
    "<h3><font style=\"color:red;\">Objectives:- </font> To explore ML libraries for pre-processing and data visualization\n",
    "    </h3>"
   ]
  },
  {
   "cell_type": "markdown",
   "id": "23164243",
   "metadata": {},
   "source": [
    "<h3><font style=\"color:red;\">Theory:</font></h3>"
   ]
  },
  {
   "cell_type": "markdown",
   "id": "bed3df07",
   "metadata": {},
   "source": [
    "## Numpy"
   ]
  },
  {
   "cell_type": "markdown",
   "id": "f8536dbd",
   "metadata": {},
   "source": [
    "### 1. Numpy and important functions in numpy\n",
    "\n",
    "  * NumPy is a Python library, which stands for ‘Numerical Python’. \n",
    "  * It is the core library for scientific computing, which contains a powerful n-dimensional array object, provide tools for integrating C, C++ etc. \n",
    "  * NumPy is a general-purpose array-processing package. It provides a high-performance multidimensional array object, and tools for working with these arrays.\n",
    "  * It is the fundamental package for scientific computing with Python. It contains various features including these important ones:\n",
    "    * A powerful N-dimensional array object\n",
    "    * ophisticated (broadcasting) functions\n",
    "    * Tools for integrating C/C++ and Fortran code \n",
    "    * Useful linear algebra, Fourier transform, and random number capabilities\n",
    "  * NumPy array can also be used as an efficient multi-dimensional container for generic .data. \n",
    "    * The ndarray (NumPy Array) is a multidimensional array used to store values of same datatype. \n",
    "    * These arrays are indexed just like Sequences, starts with zero. \n",
    "    * The ndarrays are better than regular arrays in terms of faster computation and ease of manipulation.\n",
    "   * In different algorithms of Machine Learning like K-means Clustering, Random Forest etc. we have to store the values in an array. So, instead of using regular array, ndarray helps us to manipulate and execute easily\n"
   ]
  },
  {
   "cell_type": "markdown",
   "id": "203d9ea0",
   "metadata": {},
   "source": [
    "<b>Install  NumPy via pip command:</b><br>\n",
    "pip install numpy"
   ]
  },
  {
   "cell_type": "markdown",
   "id": "f9c5a980",
   "metadata": {},
   "source": [
    "### Import Library"
   ]
  },
  {
   "cell_type": "code",
   "execution_count": 2,
   "id": "250728d2",
   "metadata": {},
   "outputs": [],
   "source": [
    "import numpy as np"
   ]
  },
  {
   "cell_type": "markdown",
   "id": "9b50b80f",
   "metadata": {},
   "source": [
    "### Numpy ndarray "
   ]
  },
  {
   "cell_type": "code",
   "execution_count": 9,
   "id": "58349671",
   "metadata": {},
   "outputs": [
    {
     "name": "stdout",
     "output_type": "stream",
     "text": [
      "[1 2 3]\n",
      "<class 'numpy.ndarray'>\n"
     ]
    }
   ],
   "source": [
    "a=np.array([1,2,3]) #Single dimension array\n",
    "print(a)\n",
    "print(type(a))"
   ]
  },
  {
   "cell_type": "code",
   "execution_count": 10,
   "id": "2ca151b6",
   "metadata": {},
   "outputs": [
    {
     "name": "stdout",
     "output_type": "stream",
     "text": [
      "[[1 2 3]\n",
      " [4 5 6]]\n"
     ]
    }
   ],
   "source": [
    "a=np.array([(1,2,3),(4,5,6)])# 2 Dimension array\n",
    "print(a)"
   ]
  },
  {
   "cell_type": "code",
   "execution_count": 11,
   "id": "7854daaf",
   "metadata": {},
   "outputs": [
    {
     "name": "stdout",
     "output_type": "stream",
     "text": [
      "0\n",
      "1\n",
      "2\n",
      "3\n"
     ]
    }
   ],
   "source": [
    "#Check Number of Dimensions \n",
    "a = np.array(42)\n",
    "b = np.array([1, 2, 3, 4, 5])\n",
    "c = np.array([[1, 2, 3], [4, 5, 6]])\n",
    "d = np.array([[[1, 2, 3], [4, 5, 6]], [[1, 2, 3], [4, 5, 6]]])\n",
    "\n",
    "print(a.ndim)\n",
    "print(b.ndim)\n",
    "print(c.ndim)\n",
    "print(d.ndim)"
   ]
  },
  {
   "cell_type": "markdown",
   "id": "5c849858",
   "metadata": {},
   "source": [
    "### Check Item Size"
   ]
  },
  {
   "cell_type": "code",
   "execution_count": 21,
   "id": "ea6f5e54",
   "metadata": {},
   "outputs": [
    {
     "name": "stdout",
     "output_type": "stream",
     "text": [
      "4\n"
     ]
    }
   ],
   "source": [
    "d = np.array([[[1, 2, 3], [4, 5, 6]], [[1, 2, 3], [4, 5, 6]]])\n",
    "print(d.itemsize)\n"
   ]
  },
  {
   "cell_type": "markdown",
   "id": "4f7b055b",
   "metadata": {},
   "source": [
    "### Square Root & Standard Deviation\n"
   ]
  },
  {
   "cell_type": "code",
   "execution_count": 13,
   "id": "b7c86ffb",
   "metadata": {},
   "outputs": [
    {
     "name": "stdout",
     "output_type": "stream",
     "text": [
      "[[1.         1.41421356 1.73205081]\n",
      " [1.73205081 2.         2.23606798]]\n",
      "1.2909944487358056\n"
     ]
    }
   ],
   "source": [
    "a=np.array([(1,2,3),(3,4,5,)])\n",
    "print(np.sqrt(a))\n",
    "print(np.std(a))"
   ]
  },
  {
   "cell_type": "markdown",
   "id": "aa9e0673",
   "metadata": {},
   "source": [
    "### Numpy Random"
   ]
  },
  {
   "cell_type": "code",
   "execution_count": 14,
   "id": "0b6a5e81",
   "metadata": {},
   "outputs": [
    {
     "name": "stdout",
     "output_type": "stream",
     "text": [
      "[[0.55899119 0.57358781 0.00799057]\n",
      " [0.83003806 0.47845854 0.36721098]]\n"
     ]
    }
   ],
   "source": [
    "print(np.random.rand(2,3))"
   ]
  },
  {
   "cell_type": "markdown",
   "id": "fb8db23b",
   "metadata": {},
   "source": [
    "### Numpy arange"
   ]
  },
  {
   "cell_type": "code",
   "execution_count": 16,
   "id": "ccfb7fef",
   "metadata": {},
   "outputs": [
    {
     "name": "stdout",
     "output_type": "stream",
     "text": [
      "[0.  0.3 0.6 0.9 1.2 1.5 1.8 2.1 2.4 2.7 3.  3.3 3.6 3.9 4.2 4.5 4.8 5.1\n",
      " 5.4 5.7 6.  6.3 6.6 6.9 7.2 7.5 7.8 8.1 8.4 8.7 9.  9.3 9.6 9.9]\n"
     ]
    }
   ],
   "source": [
    "print(np.arange(0,10,0.3))  #numpy.arange([start, ]stop, [step, ])"
   ]
  },
  {
   "cell_type": "markdown",
   "id": "00d84d95",
   "metadata": {},
   "source": [
    "### Reshape ndarray"
   ]
  },
  {
   "cell_type": "code",
   "execution_count": 25,
   "id": "53e9b367",
   "metadata": {},
   "outputs": [
    {
     "name": "stdout",
     "output_type": "stream",
     "text": [
      "[[4 5 6]\n",
      " [7 8 9]\n",
      " [0 3 6]]\n"
     ]
    }
   ],
   "source": [
    "a = np.array([4,5,6,7,8,9,0,3,6]).reshape((3,3))\n",
    "print(a)"
   ]
  },
  {
   "cell_type": "markdown",
   "id": "1d872564",
   "metadata": {},
   "source": [
    "### Create an array of zeros"
   ]
  },
  {
   "cell_type": "code",
   "execution_count": 26,
   "id": "a357ea4b",
   "metadata": {},
   "outputs": [
    {
     "data": {
      "text/plain": [
       "array([0., 0., 0., 0., 0., 0., 0., 0., 0., 0.])"
      ]
     },
     "execution_count": 26,
     "metadata": {},
     "output_type": "execute_result"
    }
   ],
   "source": [
    "arr0 = np.zeros(10)\n",
    "arr0"
   ]
  },
  {
   "cell_type": "markdown",
   "id": "87e49226",
   "metadata": {},
   "source": [
    "### Create an array of ones\n"
   ]
  },
  {
   "cell_type": "code",
   "execution_count": 27,
   "id": "b052979b",
   "metadata": {},
   "outputs": [
    {
     "data": {
      "text/plain": [
       "array([1., 1., 1., 1., 1., 1., 1., 1., 1., 1.])"
      ]
     },
     "execution_count": 27,
     "metadata": {},
     "output_type": "execute_result"
    }
   ],
   "source": [
    "arr1 = np.ones(10)\n",
    "arr1"
   ]
  },
  {
   "cell_type": "markdown",
   "id": "a1a50ae5",
   "metadata": {},
   "source": [
    "## Pandas"
   ]
  },
  {
   "cell_type": "markdown",
   "id": "b534d160",
   "metadata": {},
   "source": [
    "### 2.Pandas and important functions in pandas \n",
    "\n",
    "   * Python Pandas is defined as an open-source library that provides high-performance data manipulation in Python.\n",
    "   * Pandas is defined as an open-source library that provides high-performance data manipulation in Python. \n",
    "   * The name of Pandas is derived from the word Panel Data, which means an Econometrics from Multidimensional data. It is used for data analysis in Python and developed by Wes McKinney in 2008.\n",
    "   * Data analysis requires lots of processing, such as restructuring, cleaning or merging, etc. There are different tools are available for fast data processing, such as Numpy, Scipy, Cython, and Panda. But we prefer Pandas because working with Pandas is fast, simple and more expressive than other tools.\n",
    "<br>\n",
    "<b>Key Features of Pandas</b>\n",
    "   * It has a fast and efficient DataFrame object with the default and customized indexing.\n",
    "   * Used for reshaping and pivoting of the data sets.\n",
    "   * Group by data for aggregations and transformations.\n",
    "   * It is used for data alignment and integration of the missing data.\n",
    "   * Provide the functionality of Time Series.\n",
    "   * Process a variety of data sets in different formats like matrix data, tabular heterogeneous, time series.\n",
    "   * Handle multiple operations of the data sets such as subsetting, slicing, filtering, groupBy, re-ordering, and re-shaping.\n",
    "   * It integrates with the other libraries such as SciPy, and scikit-learn.\n",
    "   * Provides fast performance, and If you want to speed it, even more, you can use the Cython.\n",
    "<br>\n",
    "<b>Benefits of Pandas</b>\n",
    "\n",
    "   * Data Representation: It represents the data in a form that is suited for data analysis through its DataFrame and Series.\n",
    "   * Clear code: The clear API of the Pandas allows you to focus on the core part of the code. So, it provides clear and concise code for the user.\n",
    "<br>\n",
    "<b>Python Pandas Data Structure</b>\n",
    "The Pandas provides two data structures for processing the data, i.e., Series and DataFrame\n",
    "<br><b>\n",
    "1) Series:</b>\n",
    "It is defined as a one-dimensional array that is capable of storing various data types. The row labels of series are called the index. We can easily convert the list, tuple, and dictionary into series using \"series' method. A Series cannot contain multiple \n",
    "* columns. It has one parameter:\n",
    "* Data: It can be any list, dictionary, or scalar value.<br>\n",
    "<b>\n",
    "2) Python Pandas DataFrame:</b>\n",
    "It is a widely used data structure of pandas and works with a two-dimensional array with labeled axes (rows and columns). DataFrame is defined as a standard way to store data and has two different indexes, i.e., row index and column index. It consists of the following properties:\n",
    "\n",
    "The columns can be heterogeneous types like int, bool, and so on.\n",
    "It can be seen as a dictionary of Series structure where both the rows and columns are indexed. It is denoted as \"columns\" in case of columns and \"index\" in case of rows.\n",
    "Create a DataFrame using List:\n",
    "* We can easily create a DataFrame in Pandas using list\n"
   ]
  },
  {
   "cell_type": "markdown",
   "id": "1155edb3",
   "metadata": {},
   "source": [
    "### Install Pandas Library\n",
    "pip install pandas "
   ]
  },
  {
   "cell_type": "markdown",
   "id": "5037faa2",
   "metadata": {},
   "source": [
    "### Import pandas Libaray"
   ]
  },
  {
   "cell_type": "code",
   "execution_count": 29,
   "id": "ae84cbfe",
   "metadata": {},
   "outputs": [],
   "source": [
    "import pandas as pd"
   ]
  },
  {
   "cell_type": "markdown",
   "id": "a1bd282b",
   "metadata": {},
   "source": [
    "### pandas series"
   ]
  },
  {
   "cell_type": "code",
   "execution_count": 30,
   "id": "27c9bc9b",
   "metadata": {},
   "outputs": [
    {
     "name": "stdout",
     "output_type": "stream",
     "text": [
      "0    P\n",
      "1    a\n",
      "2    n\n",
      "3    d\n",
      "4    a\n",
      "5    s\n",
      "dtype: object\n"
     ]
    }
   ],
   "source": [
    "info = np.array(['P','a','n','d','a','s'])  \n",
    "a = pd.Series(info)  \n",
    "print(a)  "
   ]
  },
  {
   "cell_type": "code",
   "execution_count": 31,
   "id": "177a2d2a",
   "metadata": {},
   "outputs": [
    {
     "data": {
      "text/html": [
       "<div>\n",
       "<style scoped>\n",
       "    .dataframe tbody tr th:only-of-type {\n",
       "        vertical-align: middle;\n",
       "    }\n",
       "\n",
       "    .dataframe tbody tr th {\n",
       "        vertical-align: top;\n",
       "    }\n",
       "\n",
       "    .dataframe thead th {\n",
       "        text-align: right;\n",
       "    }\n",
       "</style>\n",
       "<table border=\"1\" class=\"dataframe\">\n",
       "  <thead>\n",
       "    <tr style=\"text-align: right;\">\n",
       "      <th></th>\n",
       "      <th>vals</th>\n",
       "    </tr>\n",
       "  </thead>\n",
       "  <tbody>\n",
       "    <tr>\n",
       "      <th>0</th>\n",
       "      <td>a</td>\n",
       "    </tr>\n",
       "    <tr>\n",
       "      <th>1</th>\n",
       "      <td>b</td>\n",
       "    </tr>\n",
       "    <tr>\n",
       "      <th>2</th>\n",
       "      <td>c</td>\n",
       "    </tr>\n",
       "  </tbody>\n",
       "</table>\n",
       "</div>"
      ],
      "text/plain": [
       "  vals\n",
       "0    a\n",
       "1    b\n",
       "2    c"
      ]
     },
     "execution_count": 31,
     "metadata": {},
     "output_type": "execute_result"
    }
   ],
   "source": [
    "s = pd.Series([\"a\", \"b\", \"c\"], name=\"vals\")  \n",
    "s.to_frame()  "
   ]
  },
  {
   "cell_type": "markdown",
   "id": "c5798774",
   "metadata": {},
   "source": [
    "### Pandas Dataframe"
   ]
  },
  {
   "cell_type": "code",
   "execution_count": 33,
   "id": "b4557951",
   "metadata": {},
   "outputs": [
    {
     "data": {
      "text/html": [
       "<div>\n",
       "<style scoped>\n",
       "    .dataframe tbody tr th:only-of-type {\n",
       "        vertical-align: middle;\n",
       "    }\n",
       "\n",
       "    .dataframe tbody tr th {\n",
       "        vertical-align: top;\n",
       "    }\n",
       "\n",
       "    .dataframe thead th {\n",
       "        text-align: right;\n",
       "    }\n",
       "</style>\n",
       "<table border=\"1\" class=\"dataframe\">\n",
       "  <thead>\n",
       "    <tr style=\"text-align: right;\">\n",
       "      <th></th>\n",
       "      <th>ID</th>\n",
       "      <th>Department</th>\n",
       "    </tr>\n",
       "  </thead>\n",
       "  <tbody>\n",
       "    <tr>\n",
       "      <th>0</th>\n",
       "      <td>101</td>\n",
       "      <td>B.Sc</td>\n",
       "    </tr>\n",
       "    <tr>\n",
       "      <th>1</th>\n",
       "      <td>102</td>\n",
       "      <td>B.Tech</td>\n",
       "    </tr>\n",
       "    <tr>\n",
       "      <th>2</th>\n",
       "      <td>103</td>\n",
       "      <td>M.Tech</td>\n",
       "    </tr>\n",
       "  </tbody>\n",
       "</table>\n",
       "</div>"
      ],
      "text/plain": [
       "    ID Department\n",
       "0  101       B.Sc\n",
       "1  102     B.Tech\n",
       "2  103     M.Tech"
      ]
     },
     "execution_count": 33,
     "metadata": {},
     "output_type": "execute_result"
    }
   ],
   "source": [
    "# Create dataframe\n",
    "info = {'ID' :[101, 102, 103],'Department':['B.Sc','B.Tech','M.Tech',]}  \n",
    "df = pd.DataFrame(info)  \n",
    "df  "
   ]
  },
  {
   "cell_type": "code",
   "execution_count": 35,
   "id": "f02a6655",
   "metadata": {},
   "outputs": [
    {
     "data": {
      "text/html": [
       "<div>\n",
       "<style scoped>\n",
       "    .dataframe tbody tr th:only-of-type {\n",
       "        vertical-align: middle;\n",
       "    }\n",
       "\n",
       "    .dataframe tbody tr th {\n",
       "        vertical-align: top;\n",
       "    }\n",
       "\n",
       "    .dataframe thead th {\n",
       "        text-align: right;\n",
       "    }\n",
       "</style>\n",
       "<table border=\"1\" class=\"dataframe\">\n",
       "  <thead>\n",
       "    <tr style=\"text-align: right;\">\n",
       "      <th></th>\n",
       "      <th>one</th>\n",
       "      <th>two</th>\n",
       "    </tr>\n",
       "  </thead>\n",
       "  <tbody>\n",
       "    <tr>\n",
       "      <th>a</th>\n",
       "      <td>1.0</td>\n",
       "      <td>1</td>\n",
       "    </tr>\n",
       "    <tr>\n",
       "      <th>b</th>\n",
       "      <td>2.0</td>\n",
       "      <td>2</td>\n",
       "    </tr>\n",
       "    <tr>\n",
       "      <th>c</th>\n",
       "      <td>3.0</td>\n",
       "      <td>3</td>\n",
       "    </tr>\n",
       "    <tr>\n",
       "      <th>d</th>\n",
       "      <td>4.0</td>\n",
       "      <td>4</td>\n",
       "    </tr>\n",
       "    <tr>\n",
       "      <th>e</th>\n",
       "      <td>5.0</td>\n",
       "      <td>5</td>\n",
       "    </tr>\n",
       "    <tr>\n",
       "      <th>f</th>\n",
       "      <td>6.0</td>\n",
       "      <td>6</td>\n",
       "    </tr>\n",
       "    <tr>\n",
       "      <th>g</th>\n",
       "      <td>NaN</td>\n",
       "      <td>7</td>\n",
       "    </tr>\n",
       "    <tr>\n",
       "      <th>h</th>\n",
       "      <td>NaN</td>\n",
       "      <td>8</td>\n",
       "    </tr>\n",
       "  </tbody>\n",
       "</table>\n",
       "</div>"
      ],
      "text/plain": [
       "   one  two\n",
       "a  1.0    1\n",
       "b  2.0    2\n",
       "c  3.0    3\n",
       "d  4.0    4\n",
       "e  5.0    5\n",
       "f  6.0    6\n",
       "g  NaN    7\n",
       "h  NaN    8"
      ]
     },
     "execution_count": 35,
     "metadata": {},
     "output_type": "execute_result"
    }
   ],
   "source": [
    "# Create Dataframe from series\n",
    "info = {'one' : pd.Series([1, 2, 3, 4, 5, 6], index=['a', 'b', 'c', 'd', 'e', 'f']),  \n",
    "   'two' : pd.Series([1, 2, 3, 4, 5, 6, 7, 8], index=['a', 'b', 'c', 'd', 'e', 'f', 'g', 'h'])}  \n",
    "  \n",
    "d1 = pd.DataFrame(info)  \n",
    "d1  "
   ]
  },
  {
   "cell_type": "code",
   "execution_count": 48,
   "id": "3b60e86f",
   "metadata": {},
   "outputs": [
    {
     "data": {
      "text/plain": [
       "one    2\n",
       "two    0\n",
       "dtype: int64"
      ]
     },
     "execution_count": 48,
     "metadata": {},
     "output_type": "execute_result"
    }
   ],
   "source": [
    "# check Nan values\n",
    "d1.isnull().sum()"
   ]
  },
  {
   "cell_type": "code",
   "execution_count": 49,
   "id": "7a62278b",
   "metadata": {},
   "outputs": [
    {
     "data": {
      "text/html": [
       "<div>\n",
       "<style scoped>\n",
       "    .dataframe tbody tr th:only-of-type {\n",
       "        vertical-align: middle;\n",
       "    }\n",
       "\n",
       "    .dataframe tbody tr th {\n",
       "        vertical-align: top;\n",
       "    }\n",
       "\n",
       "    .dataframe thead th {\n",
       "        text-align: right;\n",
       "    }\n",
       "</style>\n",
       "<table border=\"1\" class=\"dataframe\">\n",
       "  <thead>\n",
       "    <tr style=\"text-align: right;\">\n",
       "      <th></th>\n",
       "      <th>one</th>\n",
       "      <th>two</th>\n",
       "    </tr>\n",
       "  </thead>\n",
       "  <tbody>\n",
       "    <tr>\n",
       "      <th>a</th>\n",
       "      <td>1.0</td>\n",
       "      <td>1</td>\n",
       "    </tr>\n",
       "    <tr>\n",
       "      <th>b</th>\n",
       "      <td>2.0</td>\n",
       "      <td>2</td>\n",
       "    </tr>\n",
       "    <tr>\n",
       "      <th>c</th>\n",
       "      <td>3.0</td>\n",
       "      <td>3</td>\n",
       "    </tr>\n",
       "    <tr>\n",
       "      <th>d</th>\n",
       "      <td>4.0</td>\n",
       "      <td>4</td>\n",
       "    </tr>\n",
       "    <tr>\n",
       "      <th>e</th>\n",
       "      <td>5.0</td>\n",
       "      <td>5</td>\n",
       "    </tr>\n",
       "    <tr>\n",
       "      <th>f</th>\n",
       "      <td>6.0</td>\n",
       "      <td>6</td>\n",
       "    </tr>\n",
       "  </tbody>\n",
       "</table>\n",
       "</div>"
      ],
      "text/plain": [
       "   one  two\n",
       "a  1.0    1\n",
       "b  2.0    2\n",
       "c  3.0    3\n",
       "d  4.0    4\n",
       "e  5.0    5\n",
       "f  6.0    6"
      ]
     },
     "execution_count": 49,
     "metadata": {},
     "output_type": "execute_result"
    }
   ],
   "source": [
    "# Drop Null Values\n",
    "d1.dropna()"
   ]
  },
  {
   "cell_type": "code",
   "execution_count": 36,
   "id": "efab426f",
   "metadata": {},
   "outputs": [
    {
     "data": {
      "text/plain": [
       "col1    int64\n",
       "col2    int64\n",
       "dtype: object"
      ]
     },
     "execution_count": 36,
     "metadata": {},
     "output_type": "execute_result"
    }
   ],
   "source": [
    "# Astype\n",
    "a = {'col1': [1, 2], 'col2': [3, 4]}  \n",
    "d2 = pd.DataFrame(data=a)  \n",
    "d2.dtypes  \n"
   ]
  },
  {
   "cell_type": "code",
   "execution_count": 40,
   "id": "143d9dd2",
   "metadata": {},
   "outputs": [
    {
     "data": {
      "text/plain": [
       "col1    int64\n",
       "col2    int32\n",
       "dtype: object"
      ]
     },
     "execution_count": 40,
     "metadata": {},
     "output_type": "execute_result"
    }
   ],
   "source": [
    "# We convert it into 'int32' type.  \n",
    "d2.astype({'col2': 'int32'}).dtypes  \n"
   ]
  },
  {
   "cell_type": "code",
   "execution_count": 42,
   "id": "6f43dc31",
   "metadata": {},
   "outputs": [
    {
     "data": {
      "text/html": [
       "<div>\n",
       "<style scoped>\n",
       "    .dataframe tbody tr th:only-of-type {\n",
       "        vertical-align: middle;\n",
       "    }\n",
       "\n",
       "    .dataframe tbody tr th {\n",
       "        vertical-align: top;\n",
       "    }\n",
       "\n",
       "    .dataframe thead th {\n",
       "        text-align: right;\n",
       "    }\n",
       "</style>\n",
       "<table border=\"1\" class=\"dataframe\">\n",
       "  <thead>\n",
       "    <tr style=\"text-align: right;\">\n",
       "      <th></th>\n",
       "      <th>Name</th>\n",
       "      <th>Percentage</th>\n",
       "      <th>Course</th>\n",
       "    </tr>\n",
       "  </thead>\n",
       "  <tbody>\n",
       "    <tr>\n",
       "      <th>0</th>\n",
       "      <td>Achal</td>\n",
       "      <td>98</td>\n",
       "      <td>B.Sc</td>\n",
       "    </tr>\n",
       "    <tr>\n",
       "      <th>1</th>\n",
       "      <td>Mate</td>\n",
       "      <td>91</td>\n",
       "      <td>B.Ed</td>\n",
       "    </tr>\n",
       "    <tr>\n",
       "      <th>2</th>\n",
       "      <td>abc</td>\n",
       "      <td>91</td>\n",
       "      <td>M.Phill</td>\n",
       "    </tr>\n",
       "    <tr>\n",
       "      <th>3</th>\n",
       "      <td>pqr</td>\n",
       "      <td>87</td>\n",
       "      <td>BA</td>\n",
       "    </tr>\n",
       "  </tbody>\n",
       "</table>\n",
       "</div>"
      ],
      "text/plain": [
       "    Name  Percentage   Course\n",
       "0  Achal          98     B.Sc\n",
       "1   Mate          91     B.Ed\n",
       "2    abc          91  M.Phill\n",
       "3    pqr          87       BA"
      ]
     },
     "execution_count": 42,
     "metadata": {},
     "output_type": "execute_result"
    }
   ],
   "source": [
    "### GroupBy\n",
    "data = {'Name': ['Achal', 'Mate', 'abc', 'pqr'],  \n",
    "   'Percentage': [98, 91, 91, 87],  \n",
    "   'Course': ['B.Sc','B.Ed','M.Phill','BA']}  \n",
    "df3 = pd.DataFrame(data)  \n",
    "df3"
   ]
  },
  {
   "cell_type": "code",
   "execution_count": 47,
   "id": "c1e3a51b",
   "metadata": {},
   "outputs": [
    {
     "data": {
      "text/html": [
       "<div>\n",
       "<style scoped>\n",
       "    .dataframe tbody tr th:only-of-type {\n",
       "        vertical-align: middle;\n",
       "    }\n",
       "\n",
       "    .dataframe tbody tr th {\n",
       "        vertical-align: top;\n",
       "    }\n",
       "\n",
       "    .dataframe thead th {\n",
       "        text-align: right;\n",
       "    }\n",
       "</style>\n",
       "<table border=\"1\" class=\"dataframe\">\n",
       "  <thead>\n",
       "    <tr style=\"text-align: right;\">\n",
       "      <th></th>\n",
       "      <th>Percentage</th>\n",
       "    </tr>\n",
       "    <tr>\n",
       "      <th>Course</th>\n",
       "      <th></th>\n",
       "    </tr>\n",
       "  </thead>\n",
       "  <tbody>\n",
       "    <tr>\n",
       "      <th>B.Ed</th>\n",
       "      <td>91</td>\n",
       "    </tr>\n",
       "    <tr>\n",
       "      <th>B.Sc</th>\n",
       "      <td>98</td>\n",
       "    </tr>\n",
       "    <tr>\n",
       "      <th>BA</th>\n",
       "      <td>87</td>\n",
       "    </tr>\n",
       "    <tr>\n",
       "      <th>M.Phill</th>\n",
       "      <td>91</td>\n",
       "    </tr>\n",
       "  </tbody>\n",
       "</table>\n",
       "</div>"
      ],
      "text/plain": [
       "         Percentage\n",
       "Course             \n",
       "B.Ed             91\n",
       "B.Sc             98\n",
       "BA               87\n",
       "M.Phill          91"
      ]
     },
     "execution_count": 47,
     "metadata": {},
     "output_type": "execute_result"
    }
   ],
   "source": [
    "grouped = df3.groupby('Course')  \n",
    "grouped[['Percentage']].agg(np.mean)"
   ]
  },
  {
   "cell_type": "markdown",
   "id": "e76c7b33",
   "metadata": {},
   "source": [
    "## Matplotlib "
   ]
  },
  {
   "cell_type": "markdown",
   "id": "445e8d34",
   "metadata": {},
   "source": [
    "<b>3. Matplotlib and important functions in matplotlib</b><br> \n",
    "* Matplotlib is a visualization library in Python for 2D plots of arrays. \n",
    "* It consists of several plots like line, bar, scatter, histogram etc.\n",
    "* Matplotlib is a multi-platform data visualization library built on NumPy arrays and designed to work with the broader SciPy tack.It can also be used with graphics toolkits like PyQt and wxPython.\n",
    "* One of the advantage of visualization is that it allows us visual access to huge amounts of data in easily digestible isuals.\n",
    "* Matplotlib is a cross-platform, data visualization and graphical plotting library for Python and its numerical extension NumPy. \n",
    "* As such, it offers a viable open source alternative to MATLAB. Developers can also use matplotlib’s APIs (Application Programming Interfaces) to embed plots in GUI applications.\n"
   ]
  },
  {
   "cell_type": "markdown",
   "id": "6fbfbe46",
   "metadata": {},
   "source": [
    "### Install Matplotlib Library\n",
    "pip install matplotlib"
   ]
  },
  {
   "cell_type": "markdown",
   "id": "e56e6bd8",
   "metadata": {},
   "source": [
    "### Importing matplotlib :\n",
    "\n",
    "from matplotlib import pyplot as plt<br>\n",
    "or<br>\n",
    "import matplotlib.pyplot as plt"
   ]
  },
  {
   "cell_type": "code",
   "execution_count": 51,
   "id": "4d70e374",
   "metadata": {},
   "outputs": [],
   "source": [
    "import matplotlib.pyplot as plt"
   ]
  },
  {
   "cell_type": "markdown",
   "id": "2bdaf315",
   "metadata": {},
   "source": [
    "#Dataset Link :\n",
    "https://drive.google.com/file/d/1asWu8inTpz6BxJfQLmCDIGIBiNkwUU36/view?usp=sharing"
   ]
  },
  {
   "cell_type": "code",
   "execution_count": 75,
   "id": "b767a5ac",
   "metadata": {},
   "outputs": [],
   "source": [
    "df = pd.read_csv(r\"F:\\New folder (2)\\company_sales_data.csv\")"
   ]
  },
  {
   "cell_type": "code",
   "execution_count": 76,
   "id": "a048bc59",
   "metadata": {},
   "outputs": [
    {
     "data": {
      "text/html": [
       "<div>\n",
       "<style scoped>\n",
       "    .dataframe tbody tr th:only-of-type {\n",
       "        vertical-align: middle;\n",
       "    }\n",
       "\n",
       "    .dataframe tbody tr th {\n",
       "        vertical-align: top;\n",
       "    }\n",
       "\n",
       "    .dataframe thead th {\n",
       "        text-align: right;\n",
       "    }\n",
       "</style>\n",
       "<table border=\"1\" class=\"dataframe\">\n",
       "  <thead>\n",
       "    <tr style=\"text-align: right;\">\n",
       "      <th></th>\n",
       "      <th>month_number</th>\n",
       "      <th>facecream</th>\n",
       "      <th>facewash</th>\n",
       "      <th>toothpaste</th>\n",
       "      <th>bathingsoap</th>\n",
       "      <th>shampoo</th>\n",
       "      <th>moisturizer</th>\n",
       "      <th>total_units</th>\n",
       "      <th>total_profit</th>\n",
       "    </tr>\n",
       "  </thead>\n",
       "  <tbody>\n",
       "    <tr>\n",
       "      <th>0</th>\n",
       "      <td>1</td>\n",
       "      <td>2500</td>\n",
       "      <td>1500</td>\n",
       "      <td>5200</td>\n",
       "      <td>9200</td>\n",
       "      <td>1200</td>\n",
       "      <td>1500</td>\n",
       "      <td>21100</td>\n",
       "      <td>211000</td>\n",
       "    </tr>\n",
       "    <tr>\n",
       "      <th>1</th>\n",
       "      <td>2</td>\n",
       "      <td>2630</td>\n",
       "      <td>1200</td>\n",
       "      <td>5100</td>\n",
       "      <td>6100</td>\n",
       "      <td>2100</td>\n",
       "      <td>1200</td>\n",
       "      <td>18330</td>\n",
       "      <td>183300</td>\n",
       "    </tr>\n",
       "    <tr>\n",
       "      <th>2</th>\n",
       "      <td>3</td>\n",
       "      <td>2140</td>\n",
       "      <td>1340</td>\n",
       "      <td>4550</td>\n",
       "      <td>9550</td>\n",
       "      <td>3550</td>\n",
       "      <td>1340</td>\n",
       "      <td>22470</td>\n",
       "      <td>224700</td>\n",
       "    </tr>\n",
       "    <tr>\n",
       "      <th>3</th>\n",
       "      <td>4</td>\n",
       "      <td>3400</td>\n",
       "      <td>1130</td>\n",
       "      <td>5870</td>\n",
       "      <td>8870</td>\n",
       "      <td>1870</td>\n",
       "      <td>1130</td>\n",
       "      <td>22270</td>\n",
       "      <td>222700</td>\n",
       "    </tr>\n",
       "    <tr>\n",
       "      <th>4</th>\n",
       "      <td>5</td>\n",
       "      <td>3600</td>\n",
       "      <td>1740</td>\n",
       "      <td>4560</td>\n",
       "      <td>7760</td>\n",
       "      <td>1560</td>\n",
       "      <td>1740</td>\n",
       "      <td>20960</td>\n",
       "      <td>209600</td>\n",
       "    </tr>\n",
       "  </tbody>\n",
       "</table>\n",
       "</div>"
      ],
      "text/plain": [
       "   month_number  facecream  facewash  toothpaste  bathingsoap  shampoo  \\\n",
       "0             1       2500      1500        5200         9200     1200   \n",
       "1             2       2630      1200        5100         6100     2100   \n",
       "2             3       2140      1340        4550         9550     3550   \n",
       "3             4       3400      1130        5870         8870     1870   \n",
       "4             5       3600      1740        4560         7760     1560   \n",
       "\n",
       "   moisturizer  total_units  total_profit  \n",
       "0         1500        21100        211000  \n",
       "1         1200        18330        183300  \n",
       "2         1340        22470        224700  \n",
       "3         1130        22270        222700  \n",
       "4         1740        20960        209600  "
      ]
     },
     "execution_count": 76,
     "metadata": {},
     "output_type": "execute_result"
    }
   ],
   "source": [
    "df.head()"
   ]
  },
  {
   "cell_type": "markdown",
   "id": "65414699",
   "metadata": {},
   "source": [
    "### LinePlot"
   ]
  },
  {
   "cell_type": "code",
   "execution_count": 56,
   "id": "eec4f46f",
   "metadata": {},
   "outputs": [
    {
     "data": {
      "text/plain": [
       "<matplotlib.legend.Legend at 0x16aaf849130>"
      ]
     },
     "execution_count": 56,
     "metadata": {},
     "output_type": "execute_result"
    },
    {
     "data": {
      "image/png": "[encoded data removed]",
      "text/plain": [
       "<Figure size 432x288 with 1 Axes>"
      ]
     },
     "metadata": {
      "needs_background": "light"
     },
     "output_type": "display_data"
    }
   ],
   "source": [
    "profit = list(df.total_profit)\n",
    "months = list(df['month_number'])\n",
    "plt.title(\"profit of all months\")\n",
    "plt.xlabel(\"Months\")\n",
    "plt.ylabel(\"Profit\")\n",
    "plt.plot(months,profit, color='r',marker='p',markerfacecolor='k',linestyle='--', linewidth=3,label = 'Monthly Profit of last year')\n",
    "plt.legend(loc='best')"
   ]
  },
  {
   "cell_type": "markdown",
   "id": "dd5e3aeb",
   "metadata": {},
   "source": [
    "### Scatter Plot"
   ]
  },
  {
   "cell_type": "code",
   "execution_count": 59,
   "id": "aaebb4da",
   "metadata": {},
   "outputs": [
    {
     "data": {
      "image/png": "[encoded data removed]",
      "text/plain": [
       "<Figure size 432x288 with 1 Axes>"
      ]
     },
     "metadata": {
      "needs_background": "light"
     },
     "output_type": "display_data"
    }
   ],
   "source": [
    "df.plot(x = 'month_number',y ='toothpaste' ,kind=\"scatter\",label = 'Tooth paste Sales data')\n",
    "plt.xlabel('Month Number')\n",
    "plt.ylabel('Number of units Sold')\n",
    "plt.legend(loc='upper left')\n",
    "plt.title(' Tooth paste Sales data')\n",
    "plt.grid(True, linewidth= 1, linestyle=\":\")"
   ]
  },
  {
   "cell_type": "markdown",
   "id": "5bda2012",
   "metadata": {},
   "source": [
    "### BarPlot"
   ]
  },
  {
   "cell_type": "code",
   "execution_count": 60,
   "id": "26655d1a",
   "metadata": {},
   "outputs": [
    {
     "data": {
      "image/png": "[encoded data removed]",
      "text/plain": [
       "<Figure size 432x288 with 1 Axes>"
      ]
     },
     "metadata": {
      "needs_background": "light"
     },
     "output_type": "display_data"
    }
   ],
   "source": [
    "df.plot(x = 'month_number',y = ['bathingsoap'],kind = 'bar')\n",
    "plt.xlabel('Month Number')\n",
    "plt.ylabel('Number of units Sold')\n",
    "plt.legend(loc='upper left')\n",
    "plt.title(' Bathing Soap Sales data')\n",
    "plt.grid(True, linewidth= 1, linestyle=\"--\")"
   ]
  },
  {
   "cell_type": "markdown",
   "id": "1a7952f5",
   "metadata": {},
   "source": [
    "## Seaborn"
   ]
  },
  {
   "cell_type": "markdown",
   "id": "6c534a4e",
   "metadata": {},
   "source": [
    "### 4. Seaborn and important functions in seaborn\n",
    "\n",
    "* Seaborn is a library in Python predominantly used for making statistical graphics. \n",
    "* Seaborn is a data visualization library built on top of matplotlib and closely integrated with pandas data structures in Python. \n",
    "* Visualization is the central part of Seaborn which helps in exploration and understanding of data\n",
    "* Seaborn helps you explore and understand your data. \n",
    "* Its plotting functions operate on dataframes and arrays containing whole datasets and internally perform the necessary semantic mapping and statistical aggregation to produce informative plots."
   ]
  },
  {
   "cell_type": "markdown",
   "id": "b7435e15",
   "metadata": {},
   "source": [
    "### Install Package\n",
    "pip install seaborn"
   ]
  },
  {
   "cell_type": "markdown",
   "id": "dc0a75fd",
   "metadata": {},
   "source": [
    "### Import Package\n"
   ]
  },
  {
   "cell_type": "code",
   "execution_count": 61,
   "id": "fb4d2d51",
   "metadata": {},
   "outputs": [],
   "source": [
    "import seaborn as sns\n"
   ]
  },
  {
   "cell_type": "markdown",
   "id": "ae3e0242",
   "metadata": {},
   "source": [
    "### Distplot"
   ]
  },
  {
   "cell_type": "code",
   "execution_count": 67,
   "id": "9fe470c6",
   "metadata": {},
   "outputs": [
    {
     "data": {
      "text/plain": [
       "Text(0.5, 1.0, 'Distribution of Total Profit')"
      ]
     },
     "execution_count": 67,
     "metadata": {},
     "output_type": "execute_result"
    },
    {
     "data": {
      "text/plain": [
       "<Figure size 936x576 with 0 Axes>"
      ]
     },
     "metadata": {},
     "output_type": "display_data"
    },
    {
     "data": {
      "image/png": "[encoded data removed]",
      "text/plain": [
       "<Figure size 360x360 with 1 Axes>"
      ]
     },
     "metadata": {
      "needs_background": "light"
     },
     "output_type": "display_data"
    }
   ],
   "source": [
    "plt.figure(figsize = (13,8))\n",
    "sns.displot(x=\"total_profit\", kde=True,data=df)\n",
    "plt.xticks(rotation=65)\n",
    "plt.title(\"Distribution of Total Profit\")"
   ]
  },
  {
   "cell_type": "markdown",
   "id": "58113387",
   "metadata": {},
   "source": [
    "### Regplot"
   ]
  },
  {
   "cell_type": "code",
   "execution_count": 70,
   "id": "30543697",
   "metadata": {},
   "outputs": [
    {
     "data": {
      "text/plain": [
       "Text(0.5, 1.0, 'Total Profit varries according to Months')"
      ]
     },
     "execution_count": 70,
     "metadata": {},
     "output_type": "execute_result"
    },
    {
     "data": {
      "image/png": "[encoded data removed]",
      "text/plain": [
       "<Figure size 936x576 with 1 Axes>"
      ]
     },
     "metadata": {
      "needs_background": "light"
     },
     "output_type": "display_data"
    }
   ],
   "source": [
    "plt.figure(figsize = (13,8))\n",
    "sns.regplot(x=\"month_number\",y=\"total_profit\",data= df,color='green',marker='*')\n",
    "plt.xticks(rotation=65)\n",
    "plt.title(\"Total Profit varries according to Months\")"
   ]
  },
  {
   "cell_type": "markdown",
   "id": "65bbb22b",
   "metadata": {},
   "source": [
    "### HeatMap"
   ]
  },
  {
   "cell_type": "code",
   "execution_count": 71,
   "id": "775751e4",
   "metadata": {},
   "outputs": [
    {
     "data": {
      "text/plain": [
       "Text(0.5, 1.0, 'Correlation Between Data')"
      ]
     },
     "execution_count": 71,
     "metadata": {},
     "output_type": "execute_result"
    },
    {
     "data": {
      "image/png": "[encoded data removed]",
      "text/plain": [
       "<Figure size 936x576 with 2 Axes>"
      ]
     },
     "metadata": {
      "needs_background": "light"
     },
     "output_type": "display_data"
    }
   ],
   "source": [
    "plt.figure(figsize = (13,8))\n",
    "sns.heatmap(df.corr())\n",
    "plt.xticks(rotation=65)\n",
    "plt.title(\"Correlation Between Data\")"
   ]
  },
  {
   "cell_type": "markdown",
   "id": "4dd61e81",
   "metadata": {},
   "source": [
    "## Scikit:-\n"
   ]
  },
  {
   "cell_type": "markdown",
   "id": "19e74e9d",
   "metadata": {},
   "source": [
    "### 4. scikit-learn and important functions in scikit-learn\n",
    "\n",
    "* Scikit-learn (Sklearn) is the most useful and robust library for machine learning in Python. \n",
    "* It provides a selection of efficient tools for machine learning and statistical modeling.\n",
    "* This library, which is largely written in Python, is built upon NumPy, SciPy and Matplotlib.\n",
    "\n",
    "* The functionality that scikit-learn provides include:\n",
    " * Regression, including Linear and Logistic Regression\n",
    " * Classification, including K-Nearest Neighbors\n",
    " * Clustering, including K-Means and K-Means++\n",
    " * Model selection\n",
    " * Preprocessing, including Min-Max Normalization.\n"
   ]
  },
  {
   "cell_type": "markdown",
   "id": "5cbf4edb",
   "metadata": {},
   "source": [
    "## Conclusion:"
   ]
  },
  {
   "cell_type": "markdown",
   "id": "44bbb16a",
   "metadata": {},
   "source": [
    "We have described the libraries , the installation of the libraries and pratice various examples base on libraries"
   ]
  }
 ],
 "metadata": {
  "kernelspec": {
   "display_name": "Python 3 (ipykernel)",
   "language": "python",
   "name": "python3"
  },
  "language_info": {
   "codemirror_mode": {
    "name": "ipython",
    "version": 3
   },
   "file_extension": ".py",
   "mimetype": "text/x-python",
   "name": "python",
   "nbconvert_exporter": "python",
   "pygments_lexer": "ipython3",
   "version": "3.9.12"
  }
 },
 "nbformat": 4,
 "nbformat_minor": 5
}
